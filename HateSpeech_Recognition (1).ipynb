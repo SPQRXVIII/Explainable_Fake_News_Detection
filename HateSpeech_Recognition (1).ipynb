{
  "nbformat": 4,
  "nbformat_minor": 0,
  "metadata": {
    "accelerator": "GPU",
    "colab": {
      "name": "HateSpeech_Recognition.ipynb",
      "provenance": [],
      "collapsed_sections": [],
      "machine_shape": "hm"
    },
    "kernelspec": {
      "display_name": "Python 3",
      "name": "python3"
    }
  },
  "cells": [
    {
      "cell_type": "markdown",
      "metadata": {
        "id": "JgUYWAz-E_tX"
      },
      "source": [
        "##Preprocessing Tweets"
      ]
    },
    {
      "cell_type": "code",
      "metadata": {
        "colab": {
          "base_uri": "https://localhost:8080/"
        },
        "id": "1IBP7LfDcOLg",
        "outputId": "68035a9b-83ef-414c-e61f-559ba2872bf2"
      },
      "source": [
        "from google.colab import drive\r\n",
        "drive.mount(\"/content/drive\")\r\n"
      ],
      "execution_count": null,
      "outputs": [
        {
          "output_type": "stream",
          "text": [
            "Drive already mounted at /content/drive; to attempt to forcibly remount, call drive.mount(\"/content/drive\", force_remount=True).\n"
          ],
          "name": "stdout"
        }
      ]
    },
    {
      "cell_type": "code",
      "metadata": {
        "colab": {
          "base_uri": "https://localhost:8080/"
        },
        "id": "W1NhQdkSckVw",
        "outputId": "04772edf-b4fe-4609-e469-121e9fa8cee0"
      },
      "source": [
        "!ls"
      ],
      "execution_count": null,
      "outputs": [
        {
          "output_type": "stream",
          "text": [
            "drive  sample_data\n"
          ],
          "name": "stdout"
        }
      ]
    },
    {
      "cell_type": "code",
      "metadata": {
        "id": "egOSS4z61Qat"
      },
      "source": [
        "import torch\r\n",
        "import pandas as pd\r\n",
        "labeled_data = pd.read_csv('/content/drive/MyDrive/DATA_NLP/labeled_data.csv')\r\n",
        "data = labeled_data[[\"class\", \"tweet\"]]\r\n",
        "#device = torch.device(\"cuda:0\" if torch.cuda.is_available() else \"cpu\")\r\n"
      ],
      "execution_count": 12,
      "outputs": []
    },
    {
      "cell_type": "code",
      "metadata": {
        "id": "Bb0Tvd-5ZwfW"
      },
      "source": [
        "labeled_data = 0"
      ],
      "execution_count": 27,
      "outputs": []
    },
    {
      "cell_type": "code",
      "metadata": {
        "colab": {
          "base_uri": "https://localhost:8080/"
        },
        "id": "4gvDnrQLp0hq",
        "outputId": "8975fa98-b145-47a5-ae0d-43313ecad9cf"
      },
      "source": [
        "pip install pytorch-transformers "
      ],
      "execution_count": 14,
      "outputs": [
        {
          "output_type": "stream",
          "text": [
            "Collecting pytorch-transformers\n",
            "\u001b[?25l  Downloading https://files.pythonhosted.org/packages/a3/b7/d3d18008a67e0b968d1ab93ad444fc05699403fa662f634b2f2c318a508b/pytorch_transformers-1.2.0-py3-none-any.whl (176kB)\n",
            "\r\u001b[K     |█▉                              | 10kB 29.8MB/s eta 0:00:01\r\u001b[K     |███▊                            | 20kB 17.4MB/s eta 0:00:01\r\u001b[K     |█████▋                          | 30kB 14.6MB/s eta 0:00:01\r\u001b[K     |███████▍                        | 40kB 13.0MB/s eta 0:00:01\r\u001b[K     |█████████▎                      | 51kB 8.6MB/s eta 0:00:01\r\u001b[K     |███████████▏                    | 61kB 9.2MB/s eta 0:00:01\r\u001b[K     |█████████████                   | 71kB 9.5MB/s eta 0:00:01\r\u001b[K     |██████████████▉                 | 81kB 10.6MB/s eta 0:00:01\r\u001b[K     |████████████████▊               | 92kB 9.4MB/s eta 0:00:01\r\u001b[K     |██████████████████▋             | 102kB 8.6MB/s eta 0:00:01\r\u001b[K     |████████████████████▍           | 112kB 8.6MB/s eta 0:00:01\r\u001b[K     |██████████████████████▎         | 122kB 8.6MB/s eta 0:00:01\r\u001b[K     |████████████████████████▏       | 133kB 8.6MB/s eta 0:00:01\r\u001b[K     |██████████████████████████      | 143kB 8.6MB/s eta 0:00:01\r\u001b[K     |███████████████████████████▉    | 153kB 8.6MB/s eta 0:00:01\r\u001b[K     |█████████████████████████████▊  | 163kB 8.6MB/s eta 0:00:01\r\u001b[K     |███████████████████████████████▋| 174kB 8.6MB/s eta 0:00:01\r\u001b[K     |████████████████████████████████| 184kB 8.6MB/s \n",
            "\u001b[?25hRequirement already satisfied: tqdm in /usr/local/lib/python3.6/dist-packages (from pytorch-transformers) (4.41.1)\n",
            "Collecting sacremoses\n",
            "\u001b[?25l  Downloading https://files.pythonhosted.org/packages/7d/34/09d19aff26edcc8eb2a01bed8e98f13a1537005d31e95233fd48216eed10/sacremoses-0.0.43.tar.gz (883kB)\n",
            "\u001b[K     |████████████████████████████████| 890kB 9.2MB/s \n",
            "\u001b[?25hRequirement already satisfied: torch>=1.0.0 in /usr/local/lib/python3.6/dist-packages (from pytorch-transformers) (1.7.0+cu101)\n",
            "Requirement already satisfied: regex in /usr/local/lib/python3.6/dist-packages (from pytorch-transformers) (2019.12.20)\n",
            "Requirement already satisfied: requests in /usr/local/lib/python3.6/dist-packages (from pytorch-transformers) (2.23.0)\n",
            "Collecting sentencepiece\n",
            "\u001b[?25l  Downloading https://files.pythonhosted.org/packages/14/67/e42bd1181472c95c8cda79305df848264f2a7f62740995a46945d9797b67/sentencepiece-0.1.95-cp36-cp36m-manylinux2014_x86_64.whl (1.2MB)\n",
            "\u001b[K     |████████████████████████████████| 1.2MB 26.0MB/s \n",
            "\u001b[?25hRequirement already satisfied: numpy in /usr/local/lib/python3.6/dist-packages (from pytorch-transformers) (1.19.5)\n",
            "Collecting boto3\n",
            "\u001b[?25l  Downloading https://files.pythonhosted.org/packages/18/33/fd6f10892be1b750ba54b42eb7ad8190358bd6265cb2b8af0b823399e7ab/boto3-1.17.10-py2.py3-none-any.whl (130kB)\n",
            "\u001b[K     |████████████████████████████████| 133kB 54.4MB/s \n",
            "\u001b[?25hRequirement already satisfied: six in /usr/local/lib/python3.6/dist-packages (from sacremoses->pytorch-transformers) (1.15.0)\n",
            "Requirement already satisfied: click in /usr/local/lib/python3.6/dist-packages (from sacremoses->pytorch-transformers) (7.1.2)\n",
            "Requirement already satisfied: joblib in /usr/local/lib/python3.6/dist-packages (from sacremoses->pytorch-transformers) (1.0.0)\n",
            "Requirement already satisfied: dataclasses in /usr/local/lib/python3.6/dist-packages (from torch>=1.0.0->pytorch-transformers) (0.8)\n",
            "Requirement already satisfied: future in /usr/local/lib/python3.6/dist-packages (from torch>=1.0.0->pytorch-transformers) (0.16.0)\n",
            "Requirement already satisfied: typing-extensions in /usr/local/lib/python3.6/dist-packages (from torch>=1.0.0->pytorch-transformers) (3.7.4.3)\n",
            "Requirement already satisfied: chardet<4,>=3.0.2 in /usr/local/lib/python3.6/dist-packages (from requests->pytorch-transformers) (3.0.4)\n",
            "Requirement already satisfied: idna<3,>=2.5 in /usr/local/lib/python3.6/dist-packages (from requests->pytorch-transformers) (2.10)\n",
            "Requirement already satisfied: certifi>=2017.4.17 in /usr/local/lib/python3.6/dist-packages (from requests->pytorch-transformers) (2020.12.5)\n",
            "Requirement already satisfied: urllib3!=1.25.0,!=1.25.1,<1.26,>=1.21.1 in /usr/local/lib/python3.6/dist-packages (from requests->pytorch-transformers) (1.24.3)\n",
            "Collecting botocore<1.21.0,>=1.20.10\n",
            "\u001b[?25l  Downloading https://files.pythonhosted.org/packages/2d/dc/9c084956e346ab1ea8ae16a8212d794e1a9ed0a1ad2f4d681766346c3861/botocore-1.20.10-py2.py3-none-any.whl (7.2MB)\n",
            "\u001b[K     |████████████████████████████████| 7.2MB 49.5MB/s \n",
            "\u001b[?25hCollecting s3transfer<0.4.0,>=0.3.0\n",
            "\u001b[?25l  Downloading https://files.pythonhosted.org/packages/ea/43/4b4a1b26eb03a429a4c37ca7fdf369d938bd60018fc194e94b8379b0c77c/s3transfer-0.3.4-py2.py3-none-any.whl (69kB)\n",
            "\u001b[K     |████████████████████████████████| 71kB 11.3MB/s \n",
            "\u001b[?25hCollecting jmespath<1.0.0,>=0.7.1\n",
            "  Downloading https://files.pythonhosted.org/packages/07/cb/5f001272b6faeb23c1c9e0acc04d48eaaf5c862c17709d20e3469c6e0139/jmespath-0.10.0-py2.py3-none-any.whl\n",
            "Requirement already satisfied: python-dateutil<3.0.0,>=2.1 in /usr/local/lib/python3.6/dist-packages (from botocore<1.21.0,>=1.20.10->boto3->pytorch-transformers) (2.8.1)\n",
            "Building wheels for collected packages: sacremoses\n",
            "  Building wheel for sacremoses (setup.py) ... \u001b[?25l\u001b[?25hdone\n",
            "  Created wheel for sacremoses: filename=sacremoses-0.0.43-cp36-none-any.whl size=893261 sha256=22000e8ce1ef0f9218396c5c21b10951d9a16dc72a7cfa2f16da93f058074159\n",
            "  Stored in directory: /root/.cache/pip/wheels/29/3c/fd/7ce5c3f0666dab31a50123635e6fb5e19ceb42ce38d4e58f45\n",
            "Successfully built sacremoses\n",
            "\u001b[31mERROR: botocore 1.20.10 has requirement urllib3<1.27,>=1.25.4, but you'll have urllib3 1.24.3 which is incompatible.\u001b[0m\n",
            "Installing collected packages: sacremoses, sentencepiece, jmespath, botocore, s3transfer, boto3, pytorch-transformers\n",
            "Successfully installed boto3-1.17.10 botocore-1.20.10 jmespath-0.10.0 pytorch-transformers-1.2.0 s3transfer-0.3.4 sacremoses-0.0.43 sentencepiece-0.1.95\n"
          ],
          "name": "stdout"
        }
      ]
    },
    {
      "cell_type": "code",
      "metadata": {
        "id": "Ej7xyFeU8nCn",
        "colab": {
          "base_uri": "https://localhost:8080/"
        },
        "outputId": "eb35dd61-432d-49ff-ab4f-91e9dcf6a482"
      },
      "source": [
        "import nltk\r\n",
        "nltk.download(\"stopwords\")\r\n",
        "nltk.download('wordnet')\r\n",
        "from nltk.stem import WordNetLemmatizer \r\n",
        "from nltk.corpus import stopwords\r\n",
        "from nltk.stem import PorterStemmer\r\n",
        "from nltk.tokenize import TweetTokenizer \r\n",
        "import re\r\n",
        "stopwords_english = stopwords.words('english')\r\n",
        "import string\r\n",
        "punctuations = string.punctuation\r\n",
        "\r\n",
        "\r\n",
        "def processing_tweets(tweet):\r\n",
        "  tweet2 = re.sub(r'RT[\\s]+', '', tweet)# remove old style retweet text \"RT\"\r\n",
        "  tweet2 =re.sub(r'https?:\\/\\/?[\\da-z\\.-]+\\.[a-z\\.]{2,6}[\\/\\w\\.-]*', '', tweet2)# remove hyperlinks\r\n",
        "  tweet2 = re.sub(r'#','',tweet2) # remove hashtags，only removing the hash # sign from the word\r\n",
        "  tweet2 = re.sub(r'[0-9]+',' ', tweet2)\r\n",
        "  tweet2 = re.sub(r'[.,\\/#!$%\\^&\\*;:{}=\\-_`~()]+', '', tweet2)  # remove punctuations from the word\r\n",
        "\r\n",
        "\r\n",
        "  #tweet2 = \"[CLS] \" + tweet2 + \" [SEP]\"\r\n",
        "  #tweet_tokens = tokenizer.tokenize(tweet2) #tokenizing the tweet\r\n",
        "  tweet_tokens = TweetTokenizer(preserve_case=False, reduce_len=True, strip_handles=False).tokenize(tweet2) #tokenizing the tweet\r\n",
        "\r\n",
        "  tweet_clean = []\r\n",
        "  for word in tweet_tokens:\r\n",
        "    if(word not in stopwords_english and word not in punctuations): #remove stopwords and punctuations\r\n",
        "      tweet_clean.append(word)\r\n",
        "\r\n",
        "  tweet_stemed = []\r\n",
        "\r\n",
        "  for word in tweet_clean:\r\n",
        "    if word[0]!='@' and word[0] not in punctuations:\r\n",
        "      word_stemed = WordNetLemmatizer().lemmatize(word) #stem the words\r\n",
        "      tweet_stemed.append(word_stemed)\r\n",
        "\r\n",
        "  text = \"\"\r\n",
        "  for word in tweet_stemed:\r\n",
        "    text+=word\r\n",
        "    text+=\" \"\r\n",
        "\r\n",
        "  text = \"[CLS] \" + text + \" [SEP]\"\r\n",
        "\r\n",
        "\r\n",
        "  return text\r\n",
        "\r\n"
      ],
      "execution_count": 15,
      "outputs": [
        {
          "output_type": "stream",
          "text": [
            "[nltk_data] Downloading package stopwords to /root/nltk_data...\n",
            "[nltk_data]   Unzipping corpora/stopwords.zip.\n",
            "[nltk_data] Downloading package wordnet to /root/nltk_data...\n",
            "[nltk_data]   Unzipping corpora/wordnet.zip.\n"
          ],
          "name": "stdout"
        }
      ]
    },
    {
      "cell_type": "code",
      "metadata": {
        "colab": {
          "base_uri": "https://localhost:8080/"
        },
        "id": "00T-DWnArE3q",
        "outputId": "c7216532-f61a-4ff1-9a30-fb1ca8b64c25"
      },
      "source": [
        "import torch\r\n",
        "from pytorch_transformers import BertTokenizer\r\n",
        "from  pytorch_transformers import BertModel\r\n",
        "## Load pretrained model/tokenizer\r\n",
        "tokenizer1 = BertTokenizer.from_pretrained('bert-base-uncased')\r\n",
        "model = BertModel.from_pretrained('bert-base-uncased',output_hidden_states=True)\r\n"
      ],
      "execution_count": 16,
      "outputs": [
        {
          "output_type": "stream",
          "text": [
            "100%|██████████| 231508/231508 [00:00<00:00, 953676.14B/s]\n",
            "100%|██████████| 433/433 [00:00<00:00, 369132.85B/s]\n",
            "100%|██████████| 440473133/440473133 [00:12<00:00, 35374658.50B/s]\n"
          ],
          "name": "stderr"
        }
      ]
    },
    {
      "cell_type": "code",
      "metadata": {
        "id": "4dU9WK9EssDy"
      },
      "source": [
        "##Generate corpus\r\n",
        "import torch\r\n",
        "import numpy\r\n",
        "\r\n",
        "def Generate_Word_Embeddings(n = len(data['tweet'])):\r\n",
        "  corpus = []\r\n",
        "  ids = []\r\n",
        "  for i in range(n): #range(len(data['tweet'])):\r\n",
        "    sentence = processing_tweets(data[\"tweet\"][i])\r\n",
        "    sentence = tokenizer1.tokenize(sentence)\r\n",
        "    for j in range(100-len(sentence)):\r\n",
        "      sentence.append(\"\")\r\n",
        "    indexed_tokens = tokenizer1.convert_tokens_to_ids(sentence)\r\n",
        "    corpus.append(sentence)\r\n",
        "    ids.append(indexed_tokens)\r\n",
        "\r\n",
        "  new_corpus = []\r\n",
        "  new_ids = []\r\n",
        "  new_tags = []\r\n",
        "  for i in range(0, len(corpus)):\r\n",
        "    if len(corpus[i])>0:\r\n",
        "      new_corpus.append(corpus[i])\r\n",
        "      new_ids.append(ids[i])\r\n",
        "      new_tags.append(data[\"class\"][i])\r\n",
        "\r\n",
        "  # Convert inputs to PyTorch tensors\r\n",
        "  token_tensors = []\r\n",
        "  for indexed_tokens in new_ids:\r\n",
        "    tokens_tensor = torch.tensor([indexed_tokens])\r\n",
        "    token_tensors.append(tokens_tensor)\r\n",
        "  # Put the model in \"evaluation\" mode,meaning feed-forward operation.\r\n",
        "  model = BertModel.from_pretrained('bert-base-uncased',output_hidden_states=True)\r\n",
        "  model.eval()\r\n",
        "\r\n",
        "  word_embeddings = []\r\n",
        "  with torch.no_grad():\r\n",
        "    for tokens_tensor in token_tensors:\r\n",
        "      outputs = model(tokens_tensor)\r\n",
        "  # can use last hidden state as word embeddings\r\n",
        "      last_hidden_state = outputs[0]\r\n",
        "      word_embeddings.append(last_hidden_state)#.detach().numpy())\r\n",
        "      #word_embeddings = np.stack(word_embeddings, axis=0)\r\n",
        "      #word_embeddings = torch.from_numpy(word_embeddings)\r\n",
        "\r\n",
        "  return word_embeddings\r\n"
      ],
      "execution_count": 17,
      "outputs": []
    },
    {
      "cell_type": "markdown",
      "metadata": {
        "id": "5qW7H2gWq0Qo"
      },
      "source": [
        "##Save numpy word embeddings to pt"
      ]
    },
    {
      "cell_type": "code",
      "metadata": {
        "id": "jAxZH2uVuxeQ"
      },
      "source": [
        "def generate_and_save_wv(file_name = 'hate_speech_wv', n = 1):\r\n",
        "  path = '/content/drive/MyDrive/DATA_NLP/'\r\n",
        "  path = path+file_name\r\n",
        "  path = path+'.pt'\r\n",
        "  word_embeddings = Generate_Word_Embeddings(n)\r\n",
        "  x = []\r\n",
        "  for i in word_embeddings:\r\n",
        "    n = i.detach().numpy()\r\n",
        "    x.append(n)\r\n",
        "\r\n",
        "  x = np.stack(x, axis = 0)\r\n",
        "  x = torch.from_numpy(x)\r\n",
        "  x = torch.squeeze(x)\r\n",
        "  torch.save(x, path)\r\n"
      ],
      "execution_count": null,
      "outputs": []
    },
    {
      "cell_type": "code",
      "metadata": {
        "id": "ctuOhlzUtoZG"
      },
      "source": [
        "# Save to file\r\n",
        "word_embeddings = Generate_Word_Embeddings()\r\n",
        "\r\n"
      ],
      "execution_count": 18,
      "outputs": []
    },
    {
      "cell_type": "code",
      "metadata": {
        "colab": {
          "base_uri": "https://localhost:8080/"
        },
        "id": "mrgtQaVTYIeg",
        "outputId": "efd5d62f-7711-4af6-ef3b-901f128c453e"
      },
      "source": [
        "len(word_embeddings)"
      ],
      "execution_count": 19,
      "outputs": [
        {
          "output_type": "execute_result",
          "data": {
            "text/plain": [
              "24783"
            ]
          },
          "metadata": {
            "tags": []
          },
          "execution_count": 19
        }
      ]
    },
    {
      "cell_type": "code",
      "metadata": {
        "id": "Jx4xz7xrGjCu"
      },
      "source": [
        "import numpy as np\r\n",
        "\r\n",
        "x = []\r\n",
        "for i in word_embeddings:\r\n",
        "  n = i.detach().numpy()\r\n",
        "  x.append(n)\r\n",
        "\r\n",
        "x = np.stack(x, axis = 0)\r\n",
        "x = torch.from_numpy(x)\r\n",
        "x = torch.squeeze(x)\r\n"
      ],
      "execution_count": 21,
      "outputs": []
    },
    {
      "cell_type": "code",
      "metadata": {
        "colab": {
          "base_uri": "https://localhost:8080/"
        },
        "id": "1xPfBgzQYSAW",
        "outputId": "7b8eb6de-59b3-450f-9ebb-9a1ebd2007d5"
      },
      "source": [
        "x.shape"
      ],
      "execution_count": 22,
      "outputs": [
        {
          "output_type": "execute_result",
          "data": {
            "text/plain": [
              "torch.Size([24783, 100, 768])"
            ]
          },
          "metadata": {
            "tags": []
          },
          "execution_count": 22
        }
      ]
    },
    {
      "cell_type": "code",
      "metadata": {
        "id": "iUFLMixcYTuM"
      },
      "source": [
        "torch.save(x, '/content/drive/MyDrive/DATA_NLP/hst.pt')"
      ],
      "execution_count": 23,
      "outputs": []
    },
    {
      "cell_type": "markdown",
      "metadata": {
        "id": "Ick9mDZomGXb"
      },
      "source": [
        "##Start from here\r\n"
      ]
    },
    {
      "cell_type": "code",
      "metadata": {
        "colab": {
          "base_uri": "https://localhost:8080/"
        },
        "id": "T-Buwpg6uBRi",
        "outputId": "ae5cd56f-1474-43f7-a17a-8940b63d7001"
      },
      "source": [
        "import torch\r\n",
        "t = torch.load('/content/drive/MyDrive/DATA_NLP/hst.pt')#, map_location=torch.device('cpu'))\r\n",
        "t.shape"
      ],
      "execution_count": 24,
      "outputs": [
        {
          "output_type": "execute_result",
          "data": {
            "text/plain": [
              "torch.Size([24783, 100, 768])"
            ]
          },
          "metadata": {
            "tags": []
          },
          "execution_count": 24
        }
      ]
    },
    {
      "cell_type": "code",
      "metadata": {
        "id": "tSNdl8z_mYWx"
      },
      "source": [
        "import pandas as pd\r\n",
        "\r\n",
        "data = pd.read_csv('/content/drive/MyDrive/DATA_NLP/hsdata.csv') "
      ],
      "execution_count": 30,
      "outputs": []
    },
    {
      "cell_type": "code",
      "metadata": {
        "colab": {
          "base_uri": "https://localhost:8080/"
        },
        "id": "_3hZizjqm9hJ",
        "outputId": "32ce09e9-4f1e-4ec2-9d79-8ff8800bd0f9"
      },
      "source": [
        "data = data[['class', 'tweet']]\r\n",
        "data.dtypes"
      ],
      "execution_count": 32,
      "outputs": [
        {
          "output_type": "execute_result",
          "data": {
            "text/plain": [
              "class     int64\n",
              "tweet    object\n",
              "dtype: object"
            ]
          },
          "metadata": {
            "tags": []
          },
          "execution_count": 32
        }
      ]
    },
    {
      "cell_type": "code",
      "metadata": {
        "colab": {
          "base_uri": "https://localhost:8080/"
        },
        "id": "L-RvF0oKfOb8",
        "outputId": "59134ca1-6458-4142-e103-6988f73712fe"
      },
      "source": [
        "target = []\r\n",
        "for i in range(len(data['class'])):\r\n",
        "  target.append(data['class'][i])\r\n",
        "\r\n",
        "target = torch.tensor(target)\r\n",
        "\r\n",
        "target"
      ],
      "execution_count": 33,
      "outputs": [
        {
          "output_type": "execute_result",
          "data": {
            "text/plain": [
              "tensor([2, 1, 1,  ..., 1, 1, 2])"
            ]
          },
          "metadata": {
            "tags": []
          },
          "execution_count": 33
        }
      ]
    },
    {
      "cell_type": "code",
      "metadata": {
        "id": "7ZSRSomT06iP"
      },
      "source": [
        "X = t.detach().numpy()\r\n",
        "y = target.detach().numpy()"
      ],
      "execution_count": 34,
      "outputs": []
    },
    {
      "cell_type": "code",
      "metadata": {
        "colab": {
          "base_uri": "https://localhost:8080/"
        },
        "id": "qqf11v5x1LJo",
        "outputId": "5791e007-0780-44f9-f8dd-043cc111ffa2"
      },
      "source": [
        "print(y.shape)\r\n",
        "print(X.shape)"
      ],
      "execution_count": 35,
      "outputs": [
        {
          "output_type": "stream",
          "text": [
            "(24783,)\n",
            "(24783, 100, 768)\n"
          ],
          "name": "stdout"
        }
      ]
    },
    {
      "cell_type": "code",
      "metadata": {
        "id": "_sPjABf-04qg"
      },
      "source": [
        "import sklearn.model_selection as model_selection\r\n",
        "X_train, X_test, y_train, y_test = model_selection.train_test_split(X, y)"
      ],
      "execution_count": 36,
      "outputs": []
    },
    {
      "cell_type": "code",
      "metadata": {
        "id": "G_XORah37FYA"
      },
      "source": [
        "class Dataset(torch.utils.data.Dataset):\r\n",
        "  'Characterizes a dataset for PyTorch'\r\n",
        "  def __init__(self, x, y):\r\n",
        "        'Initialization'\r\n",
        "        self.x = x\r\n",
        "        self.y = y \r\n",
        "\r\n",
        "  def __len__(self):\r\n",
        "        'Denotes the total number of samples'\r\n",
        "        return self.x.shape[0]\r\n",
        "\r\n",
        "  def __getitem__(self, index):\r\n",
        "        'Generates one sample of data'\r\n",
        "        # Select sample\r\n",
        "        # Load data and get label\r\n",
        "        X = self.x[index]\r\n",
        "        y = self.y[index]\r\n",
        "\r\n",
        "        return X, y\r\n"
      ],
      "execution_count": 39,
      "outputs": []
    },
    {
      "cell_type": "code",
      "metadata": {
        "id": "qlQXpIFPhNP_"
      },
      "source": [
        "tweet_data_train = Dataset(torch.from_numpy(X_train[0:18500]).to(device), torch.from_numpy(y_train[0:18500]).to(device))\r\n",
        "tweet_data_test = Dataset(torch.from_numpy(X_test[0:6100]).to(device), torch.from_numpy(y_test[0:6100]).to(device))"
      ],
      "execution_count": 67,
      "outputs": []
    },
    {
      "cell_type": "code",
      "metadata": {
        "colab": {
          "base_uri": "https://localhost:8080/"
        },
        "id": "wvNOLbp80KN4",
        "outputId": "fa566ce8-358f-4242-93c8-2a43d318f159"
      },
      "source": [
        "print(tweet_data_train.x.device)"
      ],
      "execution_count": 68,
      "outputs": [
        {
          "output_type": "stream",
          "text": [
            "cuda:0\n"
          ],
          "name": "stdout"
        }
      ]
    },
    {
      "cell_type": "code",
      "metadata": {
        "colab": {
          "base_uri": "https://localhost:8080/"
        },
        "id": "6o4pwqI04WDV",
        "outputId": "a464252e-de40-4738-85d4-f9ddd8c0b64c"
      },
      "source": [
        "len(tweet_data_test)"
      ],
      "execution_count": 42,
      "outputs": [
        {
          "output_type": "execute_result",
          "data": {
            "text/plain": [
              "6100"
            ]
          },
          "metadata": {
            "tags": []
          },
          "execution_count": 42
        }
      ]
    },
    {
      "cell_type": "code",
      "metadata": {
        "id": "6exZCyxBiSth"
      },
      "source": [
        "from torch.utils.data import DataLoader\r\n",
        "\r\n",
        "train_loader = DataLoader(dataset=tweet_data_train, batch_size=100, shuffle=True)\r\n",
        "test_loader = DataLoader(dataset=tweet_data_test, batch_size=100, shuffle=True)\r\n"
      ],
      "execution_count": 69,
      "outputs": []
    },
    {
      "cell_type": "markdown",
      "metadata": {
        "id": "Sr8mMqE7rWWT"
      },
      "source": [
        "##Convolution/LSTM Classifier\r\n"
      ]
    },
    {
      "cell_type": "code",
      "metadata": {
        "id": "iTRLP6_PrVqJ"
      },
      "source": [
        "import torch.nn as nn\r\n",
        "import torch.functional as F\r\n",
        "class Convo_Lstm(nn.Module):\r\n",
        "  def __init__(self):\r\n",
        "    super(Convo_Lstm, self).__init__()\r\n",
        "    self.layer1 = nn.Conv1d(768, 100, 1, stride=1).cuda()\r\n",
        "    self.pooling1 = nn.MaxPool1d(2, stride=2)\r\n",
        "    self.layer2 = nn.LSTM(100, 16, 1).cuda()\r\n",
        "    self.h0 = torch.randn(1, 100, 16).cuda()\r\n",
        "    self.c0 = torch.randn(1, 100, 16).cuda()\r\n",
        "    self.layer3 = nn.Linear(16, 3).cuda()\r\n",
        "    self.dummy_param = nn.Parameter(torch.empty(0))\r\n",
        "\r\n",
        "  def forward(self, x):\r\n",
        "    x = x.permute(1,2,0)\r\n",
        "    x = self.layer1(x)\r\n",
        "    x = nn.functional.relu(x)\r\n",
        "    x = x.permute(0, 2, 1)\r\n",
        "    output_1, (hn, cn) = self.layer2(x, (self.h0, self.c0))\r\n",
        "    out = self.layer3(hn)\r\n",
        "    return out\r\n",
        "\r\n",
        "\r\n"
      ],
      "execution_count": 72,
      "outputs": []
    },
    {
      "cell_type": "code",
      "metadata": {
        "id": "dTGZkf4qwsBY"
      },
      "source": [
        "def training(model0):\r\n",
        "  loss_l = []\r\n",
        "  criterion = nn.CrossEntropyLoss()\r\n",
        "  model = model0\r\n",
        "  model.cuda()\r\n",
        "  optimizer = torch.optim.Adam(model.parameters(), lr=0.000005, weight_decay=0.001)\r\n",
        "\r\n",
        "  for epoch in range(150):\r\n",
        "    optimizer.zero_grad\r\n",
        "    n = 0\r\n",
        "    l = 0\r\n",
        "    for x_batch, y_batch in train_loader:\r\n",
        "        # the dataset \"lives\" in the CPU, so do our mini-batches\r\n",
        "        # therefore, we need to send those mini-batches to the\r\n",
        "        # device where the model \"lives\"\r\n",
        "        x_batch = x_batch.cuda()\r\n",
        "        y_batch = y_batch.cuda()\r\n",
        "        yhat = model(x_batch)\r\n",
        "        loss = criterion(torch.squeeze(yhat), y_batch)\r\n",
        "        loss.backward()\r\n",
        "        optimizer.step()\r\n",
        "        l = l + loss\r\n",
        "        n = n+1\r\n",
        "    loss_l.append(l/n)\r\n",
        "\r\n",
        "  return model, loss_l\r\n",
        "\r\n",
        "model, l = training()"
      ],
      "execution_count": 97,
      "outputs": []
    },
    {
      "cell_type": "code",
      "metadata": {
        "colab": {
          "base_uri": "https://localhost:8080/",
          "height": 282
        },
        "id": "5i7Vy2GPxdNS",
        "outputId": "c7ae8160-061e-4a50-8970-dc1b7d9665c3"
      },
      "source": [
        "import matplotlib.pyplot as plt\r\n",
        "plt.plot(l)"
      ],
      "execution_count": 98,
      "outputs": [
        {
          "output_type": "execute_result",
          "data": {
            "text/plain": [
              "[<matplotlib.lines.Line2D at 0x7fb84f375710>]"
            ]
          },
          "metadata": {
            "tags": []
          },
          "execution_count": 98
        },
        {
          "output_type": "display_data",
          "data": {
            "image/png": "[encoded data removed]",
            "text/plain": [
              "<Figure size 432x288 with 1 Axes>"
            ]
          },
          "metadata": {
            "tags": [],
            "needs_background": "light"
          }
        }
      ]
    },
    {
      "cell_type": "markdown",
      "metadata": {
        "id": "yO3XeRysAMNt"
      },
      "source": [
        "##Evaluate"
      ]
    },
    {
      "cell_type": "code",
      "metadata": {
        "colab": {
          "base_uri": "https://localhost:8080/"
        },
        "id": "3K2pnMuF5Ey5",
        "outputId": "a7357a09-1795-4b49-c926-63a73b349b79"
      },
      "source": [
        "from sklearn.metrics import accuracy_score\r\n",
        "from sklearn.metrics import f1_score\r\n",
        "from sklearn.metrics import roc_auc_score\r\n",
        "\r\n",
        "acc = 0\r\n",
        "f1 = 0\r\n",
        "roc_auc = 0\r\n",
        "pred = []\r\n",
        "true = []\r\n",
        "for x_batch, y_batch in test_loader:\r\n",
        "        # the dataset \"lives\" in the CPU, so do our mini-batches\r\n",
        "        # therefore, we need to send those mini-batches to the\r\n",
        "        # device where the model \"lives\"\r\n",
        "        yhat = model0(x_batch)\r\n",
        "        arg = torch.squeeze(yhat)\r\n",
        "        ypred = torch.argmax(arg, dim = 1).to('cpu').detach().numpy()\r\n",
        "        pred.append(ypred)\r\n",
        "        ytrue = y_batch.to('cpu').detach().numpy()\r\n",
        "        true.append(ytrue)\r\n",
        "        acc+=accuracy_score(ytrue, ypred)\r\n",
        "        f1+=f1_score(ytrue, ypred, average='macro')\r\n",
        "        #roc_auc+=roc_auc_score(ytrue, ypred, average='macro')\r\n",
        "print('acc = ', acc/(len(tweet_data_test)/100))\r\n",
        "print('f1 = ', f1/(len(tweet_data_test)/100))\r\n",
        "#print('roc = ', roc_auc/(len(tweet_data_test)/100))"
      ],
      "execution_count": 104,
      "outputs": [
        {
          "output_type": "stream",
          "text": [
            "acc =  0.7865573770491806\n",
            "f1 =  0.29582913151149937\n"
          ],
          "name": "stdout"
        }
      ]
    },
    {
      "cell_type": "code",
      "metadata": {
        "colab": {
          "base_uri": "https://localhost:8080/"
        },
        "id": "EHCrnY0q69vg",
        "outputId": "8fab01a5-4f99-46ae-be8a-aa67b7ccca6f"
      },
      "source": [
        "from sklearn.metrics import confusion_matrix\r\n",
        "\r\n",
        "\r\n",
        "confusion_matrix(true, pred, normalize = 'true')\r\n",
        "\r\n"
      ],
      "execution_count": 92,
      "outputs": [
        {
          "output_type": "execute_result",
          "data": {
            "text/plain": [
              "array([[0., 1., 0.],\n",
              "       [0., 1., 0.],\n",
              "       [0., 1., 0.]])"
            ]
          },
          "metadata": {
            "tags": []
          },
          "execution_count": 92
        }
      ]
    },
    {
      "cell_type": "code",
      "metadata": {
        "colab": {
          "base_uri": "https://localhost:8080/",
          "height": 279
        },
        "id": "At_sPqQR8PNt",
        "outputId": "855087be-7690-4b73-cc87-4a8ef75ebf32"
      },
      "source": [
        "import pandas as pd\r\n",
        "import seaborn as sn\r\n",
        "import matplotlib.pyplot as plt\r\n",
        "\r\n",
        "data = {'y_Actual':   true,\r\n",
        "        'y_Predicted':pred\r\n",
        "        }\r\n",
        "\r\n",
        "df = pd.DataFrame(data, columns=['y_Actual','y_Predicted'])\r\n",
        "confusion_matrix = pd.crosstab(df['y_Actual'], df['y_Predicted'], rownames=['Actual'], colnames=['Predicted'])\r\n",
        "\r\n",
        "sn.heatmap(confusion_matrix, annot=True)\r\n",
        "plt.show()\r\n"
      ],
      "execution_count": 96,
      "outputs": [
        {
          "output_type": "display_data",
          "data": {
            "image/png": "[encoded data removed]",
            "text/plain": [
              "<Figure size 432x288 with 2 Axes>"
            ]
          },
          "metadata": {
            "tags": [],
            "needs_background": "light"
          }
        }
      ]
    },
    {
      "cell_type": "markdown",
      "metadata": {
        "id": "IJ2ufzX9Apda"
      },
      "source": [
        "##Continue training"
      ]
    },
    {
      "cell_type": "code",
      "metadata": {
        "id": "xay4z4MS_Q9z"
      },
      "source": [
        "torch.save(model.state_dict(), '/content/drive/MyDrive/DATA_NLP/hsrecognizer_0.pth')\r\n"
      ],
      "execution_count": 102,
      "outputs": []
    },
    {
      "cell_type": "code",
      "metadata": {
        "colab": {
          "base_uri": "https://localhost:8080/"
        },
        "id": "6pfdYlfm_ef2",
        "outputId": "ab45cb18-e16a-490c-a471-6cfab924e450"
      },
      "source": [
        "model0 = Convo_Lstm()\r\n",
        "model0.load_state_dict(torch.load('/content/drive/MyDrive/DATA_NLP/hsrecognizer_0.pth'))\r\n"
      ],
      "execution_count": 109,
      "outputs": [
        {
          "output_type": "execute_result",
          "data": {
            "text/plain": [
              "<All keys matched successfully>"
            ]
          },
          "metadata": {
            "tags": []
          },
          "execution_count": 109
        }
      ]
    },
    {
      "cell_type": "code",
      "metadata": {
        "id": "hKwknJFKBZ1x"
      },
      "source": [
        "def training(model0, lr0=0.000005, weight_decay0=0.001, epochs=100):\r\n",
        "  loss_l = []\r\n",
        "  criterion = nn.CrossEntropyLoss()\r\n",
        "  model = model0\r\n",
        "  model.cuda()\r\n",
        "  optimizer = torch.optim.Adam(model.parameters(), lr=lr0, weight_decay=weight_decay0)\r\n",
        "\r\n",
        "  for epoch in range(epochs):\r\n",
        "    optimizer.zero_grad\r\n",
        "    n = 0\r\n",
        "    l = 0\r\n",
        "    for x_batch, y_batch in train_loader:\r\n",
        "        # the dataset \"lives\" in the CPU, so do our mini-batches\r\n",
        "        # therefore, we need to send those mini-batches to the\r\n",
        "        # device where the model \"lives\"\r\n",
        "        x_batch = x_batch.cuda()\r\n",
        "        y_batch = y_batch.cuda()\r\n",
        "        yhat = model(x_batch)\r\n",
        "        loss = criterion(torch.squeeze(yhat), y_batch)\r\n",
        "        loss.backward()\r\n",
        "        optimizer.step()\r\n",
        "        l = l + loss\r\n",
        "        n = n+1\r\n",
        "    loss_l.append(l/n)\r\n",
        "\r\n",
        "  return model, loss_l\r\n"
      ],
      "execution_count": 107,
      "outputs": []
    },
    {
      "cell_type": "code",
      "metadata": {
        "id": "xyM_aDxJBygO"
      },
      "source": [
        "model0, l1 =  training(model0, 0.00002, 0.001, epochs=50)"
      ],
      "execution_count": null,
      "outputs": []
    },
    {
      "cell_type": "code",
      "metadata": {
        "colab": {
          "base_uri": "https://localhost:8080/",
          "height": 282
        },
        "id": "_Ay_wWzyDUkc",
        "outputId": "7ff0bea2-3574-40bf-fb3c-f173bbac785b"
      },
      "source": [
        "plt.plot(l1)"
      ],
      "execution_count": 115,
      "outputs": [
        {
          "output_type": "execute_result",
          "data": {
            "text/plain": [
              "[<matplotlib.lines.Line2D at 0x7fb84f6b62e8>]"
            ]
          },
          "metadata": {
            "tags": []
          },
          "execution_count": 115
        },
        {
          "output_type": "display_data",
          "data": {
            "image/png": "[encoded data removed]",
            "text/plain": [
              "<Figure size 432x288 with 1 Axes>"
            ]
          },
          "metadata": {
            "tags": [],
            "needs_background": "light"
          }
        }
      ]
    },
    {
      "cell_type": "code",
      "metadata": {
        "id": "8w5S_YB4D5ac"
      },
      "source": [
        "torch.save(model0.state_dict(), '/content/drive/MyDrive/DATA_NLP/hsrecognizer_0.pth')\r\n"
      ],
      "execution_count": 116,
      "outputs": []
    },
    {
      "cell_type": "code",
      "metadata": {
        "colab": {
          "base_uri": "https://localhost:8080/"
        },
        "id": "OmcO9HzeDm9m",
        "outputId": "77c44bd5-9ba8-4738-9f61-d92a03bd016e"
      },
      "source": [
        "from sklearn.metrics import accuracy_score\r\n",
        "from sklearn.metrics import f1_score\r\n",
        "from sklearn.metrics import roc_auc_score\r\n",
        "\r\n",
        "acc = 0\r\n",
        "f1 = 0\r\n",
        "roc_auc = 0\r\n",
        "pred = []\r\n",
        "true = []\r\n",
        "for x_batch, y_batch in test_loader:\r\n",
        "        # the dataset \"lives\" in the CPU, so do our mini-batches\r\n",
        "        # therefore, we need to send those mini-batches to the\r\n",
        "        # device where the model \"lives\"\r\n",
        "        yhat = model0(x_batch)\r\n",
        "        arg = torch.squeeze(yhat)\r\n",
        "        ypred = torch.argmax(arg, dim = 1).to('cpu').detach().numpy()\r\n",
        "        pred.append(ypred)\r\n",
        "        ytrue = y_batch.to('cpu').detach().numpy()\r\n",
        "        true.append(ytrue)\r\n",
        "        acc+=accuracy_score(ytrue, ypred)\r\n",
        "        f1+=f1_score(ytrue, ypred, average='macro')\r\n",
        "        #roc_auc+=roc_auc_score(ytrue, ypred, average='macro')\r\n",
        "print('acc = ', acc/(len(tweet_data_test)/100))\r\n",
        "print('f1 = ', f1/(len(tweet_data_test)/100))\r\n",
        "#print('roc = ', roc_auc/(len(tweet_data_test)/100))"
      ],
      "execution_count": 117,
      "outputs": [
        {
          "output_type": "stream",
          "text": [
            "acc =  0.8629508196721313\n",
            "f1 =  0.5440864550128396\n"
          ],
          "name": "stdout"
        }
      ]
    },
    {
      "cell_type": "markdown",
      "metadata": {
        "id": "J_hG7CMfHHjN"
      },
      "source": [
        "##Training Word2Vec"
      ]
    },
    {
      "cell_type": "code",
      "metadata": {
        "id": "n0iRk1ejB-B-"
      },
      "source": [
        "from gensim.test.utils import common_texts\r\n",
        "from gensim.models import Word2Vec"
      ],
      "execution_count": null,
      "outputs": []
    },
    {
      "cell_type": "code",
      "metadata": {
        "id": "O_n1rJwrG6j3"
      },
      "source": [
        "model1 = Word2Vec(sentences=new_corpus, size=100, window=5, min_count=1, workers=4)"
      ],
      "execution_count": null,
      "outputs": []
    },
    {
      "cell_type": "code",
      "metadata": {
        "id": "LsdRnl2r8EDu"
      },
      "source": [
        "import numpy as np\r\n",
        "sentence_vectors1 = []\r\n",
        "for tokens in new_corpus:\r\n",
        "  temp = []\r\n",
        "  for word in tokens:\r\n",
        "    a = model1.wv[word]\r\n",
        "    temp.append(a)\r\n",
        "  temp = np.mean(temp, axis = 0)\r\n",
        "  sentence_vectors1.append(temp)\r\n",
        "\r\n",
        "len(sentence_vectors1)\r\n",
        "\r\n",
        "for i in range(0, len(sentence_vectors1)):\r\n",
        "  if sentence_vectors1[i].shape!=(100,):\r\n",
        "    print(i)\r\n",
        "\r\n",
        "sentence_vectors1 = np.array(sentence_vectors1)"
      ],
      "execution_count": null,
      "outputs": []
    },
    {
      "cell_type": "code",
      "metadata": {
        "colab": {
          "base_uri": "https://localhost:8080/"
        },
        "id": "w7CbZ7lC8n4L",
        "outputId": "0d73c197-5fc5-4075-b148-452a4f491e73"
      },
      "source": [
        "sentence_vectors1"
      ],
      "execution_count": null,
      "outputs": [
        {
          "output_type": "execute_result",
          "data": {
            "text/plain": [
              "array([[-0.07942008,  0.16807978,  0.63257915, ..., -0.3462815 ,\n",
              "         0.15567617, -0.7950565 ],\n",
              "       [-0.05953404,  0.17446929,  0.6993782 , ..., -0.3123042 ,\n",
              "         0.1502066 , -0.8443284 ],\n",
              "       [-0.08690218,  0.19759002,  0.7586323 , ..., -0.36930317,\n",
              "         0.1729969 , -0.9154099 ],\n",
              "       ...,\n",
              "       [-0.03928775,  0.188493  ,  0.7972574 , ..., -0.32477093,\n",
              "         0.16799062, -0.9810043 ],\n",
              "       [-0.0425214 ,  0.16539967,  0.7238931 , ..., -0.3313654 ,\n",
              "         0.1557964 , -0.90268505],\n",
              "       [-0.04197668,  0.10084955,  0.4086026 , ..., -0.22133932,\n",
              "         0.0987414 , -0.51935524]], dtype=float32)"
            ]
          },
          "metadata": {
            "tags": []
          },
          "execution_count": 85
        }
      ]
    },
    {
      "cell_type": "code",
      "metadata": {
        "colab": {
          "base_uri": "https://localhost:8080/"
        },
        "id": "-TSkmQmLHRjz",
        "outputId": "543ad77d-4cd6-4a81-b054-a4c9b1855098"
      },
      "source": [
        "model.wv[\"complain\"].shape"
      ],
      "execution_count": null,
      "outputs": [
        {
          "output_type": "execute_result",
          "data": {
            "text/plain": [
              "(100,)"
            ]
          },
          "metadata": {
            "tags": []
          },
          "execution_count": 28
        }
      ]
    },
    {
      "cell_type": "markdown",
      "metadata": {
        "id": "r6UcLYXNtXGx"
      },
      "source": [
        "##Generate sentence vectors"
      ]
    },
    {
      "cell_type": "code",
      "metadata": {
        "id": "c-jBm_brtqHn"
      },
      "source": [
        "import numpy as np"
      ],
      "execution_count": null,
      "outputs": []
    },
    {
      "cell_type": "code",
      "metadata": {
        "id": "3KA2DD8Kng1A"
      },
      "source": [
        "for i in range(0, len(sentence_vectors)):\r\n",
        "  if sentence_vectors[i].shape!=torch.Size([768]):\r\n",
        "    print(i)"
      ],
      "execution_count": null,
      "outputs": []
    },
    {
      "cell_type": "code",
      "metadata": {
        "colab": {
          "base_uri": "https://localhost:8080/"
        },
        "id": "QO3fMGWYxs19",
        "outputId": "c535a4c2-1c9d-45ec-d4d7-b4746c50fc39"
      },
      "source": [
        "training_set = []\r\n",
        "for i in range(0, len(sentence_vectors)):\r\n",
        "  training_set.append(sentence_vectors[i].numpy())\r\n",
        "\r\n",
        "len(training_set)"
      ],
      "execution_count": null,
      "outputs": [
        {
          "output_type": "execute_result",
          "data": {
            "text/plain": [
              "24783"
            ]
          },
          "metadata": {
            "tags": []
          },
          "execution_count": 61
        }
      ]
    },
    {
      "cell_type": "code",
      "metadata": {
        "id": "QZg377Jt6cp7"
      },
      "source": [
        "training_set = np.array(training_set)"
      ],
      "execution_count": null,
      "outputs": []
    },
    {
      "cell_type": "code",
      "metadata": {
        "colab": {
          "base_uri": "https://localhost:8080/"
        },
        "id": "Ad9-sP756kvQ",
        "outputId": "4cf4affe-6187-402c-f59d-37c9ae2f92f9"
      },
      "source": [
        "training_set.shape"
      ],
      "execution_count": null,
      "outputs": [
        {
          "output_type": "execute_result",
          "data": {
            "text/plain": [
              "(24783, 768)"
            ]
          },
          "metadata": {
            "tags": []
          },
          "execution_count": 64
        }
      ]
    },
    {
      "cell_type": "code",
      "metadata": {
        "colab": {
          "base_uri": "https://localhost:8080/"
        },
        "id": "BHFW81vDoLDd",
        "outputId": "cc10a58c-eadc-4fbf-aef4-45faba4173ee"
      },
      "source": [
        "a.shape"
      ],
      "execution_count": null,
      "outputs": [
        {
          "output_type": "execute_result",
          "data": {
            "text/plain": [
              "(24783, 100)"
            ]
          },
          "metadata": {
            "tags": []
          },
          "execution_count": 55
        }
      ]
    },
    {
      "cell_type": "markdown",
      "metadata": {
        "id": "GOjN8Q2IuqK9"
      },
      "source": [
        "##Logistic Regression"
      ]
    },
    {
      "cell_type": "code",
      "metadata": {
        "id": "zHsJxTy1uyhF"
      },
      "source": [
        "from sklearn.linear_model import LogisticRegression\r\n",
        "from sklearn.model_selection import train_test_split\r\n",
        "from sklearn.metrics import confusion_matrix\r\n",
        "import seaborn as sns\r\n",
        "import matplotlib.pyplot as plt\r\n"
      ],
      "execution_count": null,
      "outputs": []
    },
    {
      "cell_type": "code",
      "metadata": {
        "id": "POgUPE4XwDhG"
      },
      "source": [
        "training_label = np.array(new_tags)\r\n",
        "Xtrain, Xtest, Ytrain, Ytest = train_test_split(training_set, training_label)\r\n"
      ],
      "execution_count": null,
      "outputs": []
    },
    {
      "cell_type": "code",
      "metadata": {
        "id": "NSrwT3Xg9KXQ"
      },
      "source": [
        "training_set1 = sentence_vectors1\r\n",
        "Xtrain1, Xtest1, Ytrain1, Ytest1 = train_test_split(training_set1, training_label, test_size=0.20)\r\n"
      ],
      "execution_count": null,
      "outputs": []
    },
    {
      "cell_type": "code",
      "metadata": {
        "id": "ORncjszSw8l5"
      },
      "source": [
        "modelb = LogisticRegression(max_iter=1000)"
      ],
      "execution_count": null,
      "outputs": []
    },
    {
      "cell_type": "code",
      "metadata": {
        "id": "S6Qk8LtS9NUX"
      },
      "source": [
        "model1 = LogisticRegression(max_iter=1000)"
      ],
      "execution_count": null,
      "outputs": []
    },
    {
      "cell_type": "code",
      "metadata": {
        "colab": {
          "base_uri": "https://localhost:8080/"
        },
        "id": "crcOzI3Nxc-W",
        "outputId": "36b56457-52d1-4382-b676-cda3f1bb9413"
      },
      "source": [
        "training_label.shape"
      ],
      "execution_count": null,
      "outputs": [
        {
          "output_type": "execute_result",
          "data": {
            "text/plain": [
              "(24783,)"
            ]
          },
          "metadata": {
            "tags": []
          },
          "execution_count": 68
        }
      ]
    },
    {
      "cell_type": "code",
      "metadata": {
        "colab": {
          "base_uri": "https://localhost:8080/",
          "height": 162
        },
        "id": "ZT-8eqkDxKIH",
        "outputId": "09971f42-cbdc-40bd-a83e-a3ebea3e1138"
      },
      "source": [
        "model.fit(Xtrain, Ytrain)"
      ],
      "execution_count": null,
      "outputs": [
        {
          "output_type": "error",
          "ename": "AttributeError",
          "evalue": "ignored",
          "traceback": [
            "\u001b[0;31m---------------------------------------------------------------------------\u001b[0m",
            "\u001b[0;31mAttributeError\u001b[0m                            Traceback (most recent call last)",
            "\u001b[0;32m<ipython-input-94-a8c489d3b79c>\u001b[0m in \u001b[0;36m<module>\u001b[0;34m()\u001b[0m\n\u001b[0;32m----> 1\u001b[0;31m \u001b[0mmodel\u001b[0m\u001b[0;34m.\u001b[0m\u001b[0mfit\u001b[0m\u001b[0;34m(\u001b[0m\u001b[0mXtrain\u001b[0m\u001b[0;34m,\u001b[0m \u001b[0mYtrain\u001b[0m\u001b[0;34m)\u001b[0m\u001b[0;34m\u001b[0m\u001b[0;34m\u001b[0m\u001b[0m\n\u001b[0m",
            "\u001b[0;31mAttributeError\u001b[0m: 'Word2Vec' object has no attribute 'fit'"
          ]
        }
      ]
    },
    {
      "cell_type": "code",
      "metadata": {
        "colab": {
          "base_uri": "https://localhost:8080/"
        },
        "id": "f6vb3FzF9PMG",
        "outputId": "e70307dd-7a20-49a1-e90d-f7980b82afc7"
      },
      "source": [
        "model1.fit(Xtrain1, Ytrain1)"
      ],
      "execution_count": null,
      "outputs": [
        {
          "output_type": "execute_result",
          "data": {
            "text/plain": [
              "LogisticRegression(C=1.0, class_weight=None, dual=False, fit_intercept=True,\n",
              "                   intercept_scaling=1, l1_ratio=None, max_iter=1000,\n",
              "                   multi_class='auto', n_jobs=None, penalty='l2',\n",
              "                   random_state=None, solver='lbfgs', tol=0.0001, verbose=0,\n",
              "                   warm_start=False)"
            ]
          },
          "metadata": {
            "tags": []
          },
          "execution_count": 95
        }
      ]
    },
    {
      "cell_type": "code",
      "metadata": {
        "id": "lIuZGfoBovl3"
      },
      "source": [
        "ymodel = model.predict(Xtest)"
      ],
      "execution_count": null,
      "outputs": []
    },
    {
      "cell_type": "code",
      "metadata": {
        "id": "1k6zMRGC9Wxw"
      },
      "source": [
        "ymodel1 = model1.predict(Xtest1)"
      ],
      "execution_count": null,
      "outputs": []
    },
    {
      "cell_type": "code",
      "metadata": {
        "id": "0hE890Juo3t2"
      },
      "source": [
        "from sklearn.metrics import accuracy_score"
      ],
      "execution_count": null,
      "outputs": []
    },
    {
      "cell_type": "code",
      "metadata": {
        "colab": {
          "base_uri": "https://localhost:8080/"
        },
        "id": "8HifaHBmpdNE",
        "outputId": "f559f58b-b3f4-4629-e698-371ad42057e5"
      },
      "source": [
        "confusion_matrix(Ytest, ymodel)"
      ],
      "execution_count": null,
      "outputs": [
        {
          "output_type": "execute_result",
          "data": {
            "text/plain": [
              "array([[  51,  246,   60],\n",
              "       [  59, 4499,  206],\n",
              "       [  11,  312,  752]])"
            ]
          },
          "metadata": {
            "tags": []
          },
          "execution_count": 72
        }
      ]
    },
    {
      "cell_type": "code",
      "metadata": {
        "colab": {
          "base_uri": "https://localhost:8080/",
          "height": 282
        },
        "id": "osHXtSrwpImd",
        "outputId": "6a3afc73-8733-4e63-81f6-41f9a81326d0"
      },
      "source": [
        "sns.heatmap(confusion_matrix(Ytest, ymodel))"
      ],
      "execution_count": null,
      "outputs": [
        {
          "output_type": "execute_result",
          "data": {
            "text/plain": [
              "<matplotlib.axes._subplots.AxesSubplot at 0x7f81ef243e80>"
            ]
          },
          "metadata": {
            "tags": []
          },
          "execution_count": 73
        },
        {
          "output_type": "display_data",
          "data": {
            "image/png": "[encoded data removed]",
            "text/plain": [
              "<Figure size 432x288 with 2 Axes>"
            ]
          },
          "metadata": {
            "tags": []
          }
        }
      ]
    },
    {
      "cell_type": "code",
      "metadata": {
        "id": "1g5OQIINpoVf"
      },
      "source": [
        "from sklearn.model_selection import cross_val_score\r\n"
      ],
      "execution_count": null,
      "outputs": []
    },
    {
      "cell_type": "code",
      "metadata": {
        "colab": {
          "base_uri": "https://localhost:8080/"
        },
        "id": "Mu4RRuTLpyWr",
        "outputId": "e5bf1343-fb36-4667-b491-f94f79ccd525"
      },
      "source": [
        "cross_val_score(model, training_set, training_label)"
      ],
      "execution_count": null,
      "outputs": [
        {
          "output_type": "execute_result",
          "data": {
            "text/plain": [
              "array([0.83619124, 0.83353511, 0.85209847, 0.86460856, 0.85411622])"
            ]
          },
          "metadata": {
            "tags": []
          },
          "execution_count": 109
        }
      ]
    },
    {
      "cell_type": "code",
      "metadata": {
        "colab": {
          "base_uri": "https://localhost:8080/"
        },
        "id": "kYELyUBL7ie1",
        "outputId": "8af296d0-cbb3-4754-d8f4-566d8063a426"
      },
      "source": [
        "Xtest.shape[0]/Xtrain.shape[0]"
      ],
      "execution_count": null,
      "outputs": [
        {
          "output_type": "execute_result",
          "data": {
            "text/plain": [
              "0.33335126701458007"
            ]
          },
          "metadata": {
            "tags": []
          },
          "execution_count": 77
        }
      ]
    },
    {
      "cell_type": "code",
      "metadata": {
        "colab": {
          "base_uri": "https://localhost:8080/"
        },
        "id": "pUnwva9dvSGr",
        "outputId": "9ca60a4d-3fff-4bcd-d045-22bb10e8d549"
      },
      "source": [
        "from sklearn.metrics import f1_score\r\n",
        "f1_score(Ytest, ymodel, average='macro')\r\n"
      ],
      "execution_count": null,
      "outputs": [
        {
          "output_type": "execute_result",
          "data": {
            "text/plain": [
              "0.6160582876794701"
            ]
          },
          "metadata": {
            "tags": []
          },
          "execution_count": 75
        }
      ]
    },
    {
      "cell_type": "code",
      "metadata": {
        "colab": {
          "base_uri": "https://localhost:8080/"
        },
        "id": "M5-ytBUt9iFJ",
        "outputId": "1e8d14ec-5458-4dd4-a335-7e42c694449b"
      },
      "source": [
        "from sklearn.metrics import f1_score\r\n",
        "f1_score(Ytest1, ymodel1, average='macro')\r\n"
      ],
      "execution_count": null,
      "outputs": [
        {
          "output_type": "execute_result",
          "data": {
            "text/plain": [
              "0.5360106366682423"
            ]
          },
          "metadata": {
            "tags": []
          },
          "execution_count": 97
        }
      ]
    },
    {
      "cell_type": "code",
      "metadata": {
        "id": "GyBkCetzEoUS"
      },
      "source": [
        "from sklearn.metric import \r\n",
        "sklearn.metrics.auc(x, y)"
      ],
      "execution_count": null,
      "outputs": []
    }
  ]
}