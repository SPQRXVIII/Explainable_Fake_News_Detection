{
  "nbformat": 4,
  "nbformat_minor": 0,
  "metadata": {
    "colab": {
      "name": "FakeNews_Detector.ipynb",
      "provenance": [],
      "collapsed_sections": [],
      "toc_visible": true,
      "machine_shape": "hm"
    },
    "kernelspec": {
      "name": "python3",
      "display_name": "Python 3"
    },
    "accelerator": "GPU"
  },
  "cells": [
    {
      "cell_type": "markdown",
      "metadata": {
        "id": "wJMIBjVTCr25"
      },
      "source": [
        "##Preprocessing "
      ]
    },
    {
      "cell_type": "code",
      "metadata": {
        "id": "HiYCkB_gWds2"
      },
      "source": [
        "df = pd.read_csv('/content/drive/MyDrive/NLP/FakeNews/Data/Total.csv')"
      ],
      "execution_count": null,
      "outputs": []
    },
    {
      "cell_type": "code",
      "metadata": {
        "colab": {
          "base_uri": "https://localhost:8080/",
          "height": 338
        },
        "id": "4p15hMISFm8b",
        "outputId": "447e0d7e-8dea-4f6e-a402-22d941ed5c85"
      },
      "source": [
        "df['text'][1]"
      ],
      "execution_count": null,
      "outputs": [
        {
          "output_type": "execute_result",
          "data": {
            "application/vnd.google.colaboratory.intrinsic+json": {
              "type": "string"
            },
            "text/plain": [
              "'If there s one quality Republican voters are looking for in a candidate, it s being a Christian. You don t have to know much about foreign policy, or domestic issues, or for that matter, the Constitution, but if you say you re a Christian, well, that s your golden ticket into the hearts of GOP voters everywhere. Knowing this fact, for the past several months Republican frontrunner Donald Trump has been telling people far and wide about how much he s a Christian, how much he loves the Bible, and even that it s his  favorite book. Unfortunately for Trump, his blatant maneuvering to try to convince people that he s a great Christian who follows the Bible is all crumbling down. This was incredibly evident at a campaign event at Liberty University in Lynchburg, Virginia Monday morning.In front of a large crowd of people who actually do know their Bible verses, Trump says: We re going to protect Christianity. I can say that. I don t have to be politically correct Two Corinthians, 3:17, that s the whole ballgame. He then goes on to call Liberty University  Liberty College  and it s clear that he s reading something someone prepared for him to say. Because anyone who s ever gone to church at one point or another in their lives knows that the book of the Bible Trump is referring to is Second Corinthians, not  Two Corinthians.  However, if you re reading it off a piece of paper and you re just trying to pander to your crowd, but don t really know what you re talking about, it s going to read  Two Corinthians. The verse he s referring to is  Now the Lord is the Spirit, and where the Spirit of the Lord is, there is freedom,  which does indeed sound like the perfect Republican slogan to try to pander to  freedom  loving  Christians  everywhere. However, too bad Trump doesn t actually know what he s talking about.And as fellow candidate Marco Rubio s faith outreach director said, so honestly:\"Two\" Corinthians    It won\\'t matter. Nothing seems to matter.  Eric Teetsel (@EricTeetsel) January 18, 2016 And it likely won t.Watch the moment for yourself here: // < ![CDATA[ // < ![CDATA[ // < ![CDATA[ // < ![CDATA[ // < ![CDATA[ // < ![CDATA[ // < ![CDATA[ (function(d, s, id) { var js, fjs = d.getElementsByTagName(s)[0]; if (d.getElementById(id)) return; js = d.createElement(s); js.id = id; js.src = \"//connect.facebook.net/en_US/sdk.js#xfbml=1&#038;version=v2.3\"; fjs.parentNode.insertBefore(js, fjs);}(document, \\'script\\', \\'facebook-jssdk\\')); // ]]&gt; Two [sic] Corinthians, right? Two [sic] Corinthians 3:17. That s the whole ballgame. Posted by BuzzFeed Politics on Monday, January 18, 2016Video/Featured image: Facebook'"
            ]
          },
          "metadata": {
            "tags": []
          },
          "execution_count": 70
        }
      ]
    },
    {
      "cell_type": "code",
      "metadata": {
        "colab": {
          "base_uri": "https://localhost:8080/"
        },
        "id": "fxlwqBzMWjGl",
        "outputId": "d985a206-00cb-4f20-e095-57c5fc4af828"
      },
      "source": [
        "df.shape"
      ],
      "execution_count": null,
      "outputs": [
        {
          "output_type": "execute_result",
          "data": {
            "text/plain": [
              "(44898, 3)"
            ]
          },
          "metadata": {
            "tags": []
          },
          "execution_count": 30
        }
      ]
    },
    {
      "cell_type": "code",
      "metadata": {
        "colab": {
          "base_uri": "https://localhost:8080/"
        },
        "id": "hrF6pLU_7Zrn",
        "outputId": "7f575c8f-bf50-4250-f0d8-f4ae645abe83"
      },
      "source": [
        "import nltk\r\n",
        "nltk.download(\"stopwords\")\r\n",
        "nltk.download('wordnet')\r\n",
        "from nltk.stem import WordNetLemmatizer \r\n",
        "from nltk.corpus import stopwords\r\n",
        "from nltk.stem import PorterStemmer\r\n",
        "from nltk.tokenize import TweetTokenizer \r\n",
        "import re\r\n",
        "stopwords_english = stopwords.words('english')\r\n",
        "import string\r\n",
        "punctuations = string.punctuation\r\n",
        "\r\n",
        "\r\n",
        "def processing_tweets(tweet):\r\n",
        "  #re_script = re.compile('<\\s*script[^>]*>.*?<\\s*/\\s*script\\s*>', re.S | re.I)\r\n",
        "  #css_script = re.compile('<\\s*style[^>]*>.*?<\\s*/\\s*style\\s*>', re.S | re.I)\r\n",
        "  #tweet2 = re_script.sub('',tweet)\r\n",
        "  #tweet2 = css_script.sub('',tweet2)\r\n",
        "  tweet2 = re.sub(r'RT[\\s]+', '', tweet)# remove old style retweet text \"RT\"\r\n",
        "  tweet2 =re.sub(r'https?:\\/\\/?[\\da-z\\.-]+\\.[a-z\\.]{2,6}[\\/\\w\\.-]*', '', tweet2)# remove hyperlinks\r\n",
        "  tweet2 = re.sub(r'\\/\\/.*\\/\\/.*','', tweet2)\r\n",
        "  tweet2 = re.sub(r'#','',tweet2) # remove hashtags，only removing the hash # sign from the word\r\n",
        "  tweet2 = re.sub(r'[0-9]+',' ', tweet2)\r\n",
        "  tweet2 = re.sub(r'[.,\\/#!$%\\^&\\*;:{}=\\-_`~()]+', '', tweet2)  # remove punctuations from the word\r\n",
        "\r\n",
        "\r\n",
        "  #tweet2 = \"[CLS] \" + tweet2 + \" [SEP]\"\r\n",
        "  #tweet_tokens = tokenizer.tokenize(tweet2) #tokenizing the tweet\r\n",
        "  tweet_tokens = TweetTokenizer(preserve_case=False, reduce_len=True, strip_handles=False).tokenize(tweet2) #tokenizing the tweet\r\n",
        "\r\n",
        "  tweet_clean = []\r\n",
        "  for word in tweet_tokens:\r\n",
        "    if(word not in stopwords_english and word not in punctuations): #remove stopwords and punctuations\r\n",
        "      tweet_clean.append(word)\r\n",
        "\r\n",
        "  tweet_stemed = []\r\n",
        "\r\n",
        "  for word in tweet_clean:\r\n",
        "    if word[0]!='@' and word[0] not in punctuations:\r\n",
        "      word_stemed = WordNetLemmatizer().lemmatize(word) #stem the words\r\n",
        "      tweet_stemed.append(word_stemed)\r\n",
        "\r\n",
        "  text = \"\"\r\n",
        "  for word in tweet_stemed:\r\n",
        "    text+=word\r\n",
        "    text+=\" \"\r\n",
        "\r\n",
        "  text = \"[CLS] \" + text + \" [SEP]\"\r\n",
        "\r\n",
        "\r\n",
        "  return text\r\n",
        "\r\n"
      ],
      "execution_count": null,
      "outputs": [
        {
          "output_type": "stream",
          "text": [
            "[nltk_data] Downloading package stopwords to /root/nltk_data...\n",
            "[nltk_data]   Package stopwords is already up-to-date!\n",
            "[nltk_data] Downloading package wordnet to /root/nltk_data...\n",
            "[nltk_data]   Package wordnet is already up-to-date!\n"
          ],
          "name": "stdout"
        }
      ]
    },
    {
      "cell_type": "code",
      "metadata": {
        "colab": {
          "base_uri": "https://localhost:8080/",
          "height": 305
        },
        "id": "TE1hoRZub8wV",
        "outputId": "d8184ab7-688c-42ce-b29b-ec024d8b4b7a"
      },
      "source": [
        "df['text'][14]"
      ],
      "execution_count": null,
      "outputs": [
        {
          "output_type": "execute_result",
          "data": {
            "application/vnd.google.colaboratory.intrinsic+json": {
              "type": "string"
            },
            "text/plain": [
              "'WASHINGTON (Reuters) - The Senate Intelligence Committee, investigating Russian meddling in U.S. 2016 election, has asked President Donald Trump’s political organization to hand over all documents going back the campaign’s launch in June 2015, the Washington Post reported on Friday, citing two people briefed on the request.  The letter from the Senate panel seeking all documents, emails and telephone records arrived at Trump’s campaign committee last week and was addressed to its treasurer, the Post said. This marked the first time the Trump campaign organization has been drawn into the bipartisan committee’s investigation into Russian interference in the presidential election, it said. Dozens of former campaign staffers are expected to be contacted soon to ensure they are aware of the request, the Post said, citing the two people. The letter was signed by Republican Senator Richard Burr, the committee’s chairman, and Senator Mark Warner, its top Democrat, according to the Post, which said representatives for Burr and Warner declined to comment. The Senate panel’s investigation is among several in Congress into Russian interference in the election, and is separate from a probe into the matter being led by a special counsel appointed last week by the Justice Department, former Federal Bureau of Investigation Director Robert Mueller. Trump’s campaign committee, based at Trump Tower in New York, is now led by Michael Glassner, a former deputy campaign manager, and John Pence, a nephew of Vice President Mike Pence, the Post said. Glassner did not immediately respond to a request for comment and a White House representative had no immediate comment, the Post said. Trump’s administration has been dogged by concerns about its ties to Russia and questions over whether Trump associates may have cooperated with Russians as they sought to meddle in last year’s election on Trump’s behalf. U.S. intelligence agencies concluded in January that Moscow tried to sway the November vote in Trump’s favor. Russia has denied involvement, and Trump has denied any collusion between his campaign and Russia. Controversy has engulfed Trump since he fired FBI Director James Comey on May 9 as Comey oversaw an investigation into possible collusion between his presidential campaign and Russia. '"
            ]
          },
          "metadata": {
            "tags": []
          },
          "execution_count": 95
        }
      ]
    },
    {
      "cell_type": "code",
      "metadata": {
        "colab": {
          "base_uri": "https://localhost:8080/",
          "height": 187
        },
        "id": "iK-iGtDabD6I",
        "outputId": "185d748f-f4dc-49d3-8ea6-66615ea241e7"
      },
      "source": [
        "processing_tweets(df['text'][38666])"
      ],
      "execution_count": null,
      "outputs": [
        {
          "output_type": "execute_result",
          "data": {
            "application/vnd.google.colaboratory.intrinsic+json": {
              "type": "string"
            },
            "text/plain": [
              "'[CLS] obama hell bent closing gitmo leaf office even wrong move legacy come right american got couple senator really peeved obama latest plan move gitmo south carolina kansa guessed senator two state remember obama tried year ago go well seems desperation kicked trying dump gitmo prisoner state republican sen lindsey graham south carolina pat robert kansa arm report pentagon scouting site home state house terrorist prisoner currently detained guantanamo bay cuba received report president obama attempt shut guantanamo bay reflects another egregious overstep administration robert said statement friday referring law preventing transferring inmate u prison congress consistently stopped obama law moving single detainee u robert said reaction report kansa fort leavenworth considered terrorist suspect new home shut administration nominee secretary army prevent moving detainee kansa necessary said watch terrorist placed kansa graham equally emphatic upon learning defense secretary ash carter also considering charleston new highrisk installation detainee need moved must moved maximum security location remote area far heavily populated area vital infrastructure graham told washington post earlier week charleston meet criterion pentagon thursday confirmed lawmaker studying forth leavenworth consolidated naval brig charleston potential sitesvia  [SEP]'"
            ]
          },
          "metadata": {
            "tags": []
          },
          "execution_count": 165
        }
      ]
    },
    {
      "cell_type": "code",
      "metadata": {
        "id": "olQBdO4XAr64"
      },
      "source": [
        "anormaly = []\r\n",
        "normal_texts = []\r\n",
        "normal_validity = []\r\n",
        "for i in range(len(df)):\r\n",
        "  tmp = processing_tweets(df['text'][i])\r\n",
        "  if tmp!='[CLS]  [SEP]':\r\n",
        "    normal_texts.append(tmp)\r\n",
        "    normal_validity.append(df['validity'][i])\r\n",
        "  else:\r\n",
        "    anormaly.append(i)\r\n",
        "\r\n",
        "\r\n"
      ],
      "execution_count": null,
      "outputs": []
    },
    {
      "cell_type": "code",
      "metadata": {
        "id": "ZWodnKo7FJ9r"
      },
      "source": [
        "df = 0"
      ],
      "execution_count": null,
      "outputs": []
    },
    {
      "cell_type": "code",
      "metadata": {
        "id": "_dNals4LEh6b"
      },
      "source": [
        "dict = {'text':normal_texts, 'validity':normal_validity}\r\n",
        "df_clean = pd.DataFrame(dict)"
      ],
      "execution_count": null,
      "outputs": []
    },
    {
      "cell_type": "code",
      "metadata": {
        "id": "scAOLaFFE6Ln"
      },
      "source": [
        "df_clean.to_csv('/content/drive/MyDrive/NLP/FakeNews/Data/processed_usable_news.csv')"
      ],
      "execution_count": null,
      "outputs": []
    },
    {
      "cell_type": "code",
      "metadata": {
        "colab": {
          "base_uri": "https://localhost:8080/",
          "height": 137
        },
        "id": "R30OypzLmb2d",
        "outputId": "d0b4d337-416d-410d-a4f8-29624b878f81"
      },
      "source": [
        "import pandas as pd\r\n",
        "df = pd.read_csv('/content/drive/MyDrive/NLP/FakeNews/Data/usable_news.csv')\r\n",
        "df['text'][9]"
      ],
      "execution_count": null,
      "outputs": [
        {
          "output_type": "execute_result",
          "data": {
            "application/vnd.google.colaboratory.intrinsic+json": {
              "type": "string"
            },
            "text/plain": [
              "'[CLS] really cher excusing infidelity pointed donald trump fell love marla maple ended marrying many twisted affair bill marriage hillary happy ending woman involved bill multiple affair woman loved simply pervert clearly respect sanctity marriage make mistake comparing single affair trump serial philanderer simply fair comparisontrump cant throw one stone pres clinton regarding cheating trump humiliated wife headline wksbecause cheating cher january marla maple true feeling donald trumpand former president convicted liar serial pervert bill clinton said b must reiterateif there pres trump u thank medium news source handed win silver platter free cher december honestly think pathological side trump always existedhoweverthis campaign opened pandora boxhe lowest common denominator cher december way comparisonaside famous white house affair teenager intern monica lewinsky list accusation serial pervert bill clintonjuanita broaddrick ar rapeeileen wellstone oxford rapeelizabeth ward gracen rape quid pro quo post incident intimidationregina hopper blakely forced biting bruising kathleen willey wh sexual assault intimidation threatssandra allen james dc sexual assault year old yale sexual assaultkathy bradshaw ak sexual assaultcristy zercher unwelcomed sexual advance intimidationspaula jones ar unwelcomed sexual advance exposure bordering sexual assaultcarolyn moffet unwelcomed sexual advance exposure bordering sexual assault student university arkansas unwelcomed physical contact seven complaint per arkansas state troopersmonica lewinsky quid pro quo post incident character assaultgennifer flower quid pro quo post incident character assaultdolly kyle browning post incident character assaultsally perdue post incident threatsbetty dalton rebuffed advance married one supportersdenise reeder apologetic note scanned  [SEP]'"
            ]
          },
          "metadata": {
            "tags": []
          },
          "execution_count": 128
        }
      ]
    },
    {
      "cell_type": "code",
      "metadata": {
        "id": "8M2lzTNIm4Ql"
      },
      "source": [
        "df[]"
      ],
      "execution_count": null,
      "outputs": []
    },
    {
      "cell_type": "markdown",
      "metadata": {
        "id": "ky6b67l7Ikvg"
      },
      "source": [
        "##Starting from here\r\n"
      ]
    },
    {
      "cell_type": "code",
      "metadata": {
        "id": "ED_wCxKSKOST"
      },
      "source": [
        "import pandas as pd"
      ],
      "execution_count": null,
      "outputs": []
    },
    {
      "cell_type": "code",
      "metadata": {
        "id": "C_dlVv4cKTCD"
      },
      "source": [
        "df_news = pd.read_csv('/content/drive/MyDrive/NLP/FakeNews/Data/processed_usable_news.csv')"
      ],
      "execution_count": null,
      "outputs": []
    },
    {
      "cell_type": "code",
      "metadata": {
        "colab": {
          "base_uri": "https://localhost:8080/"
        },
        "id": "6d5E9fBzKZWO",
        "outputId": "8b820c8a-c7a9-4512-d7ba-bd9029ef99e5"
      },
      "source": [
        "df_news.shape"
      ],
      "execution_count": null,
      "outputs": [
        {
          "output_type": "execute_result",
          "data": {
            "text/plain": [
              "(44241, 3)"
            ]
          },
          "metadata": {
            "tags": []
          },
          "execution_count": 3
        }
      ]
    },
    {
      "cell_type": "code",
      "metadata": {
        "colab": {
          "base_uri": "https://localhost:8080/"
        },
        "id": "fQLJhdmDIo1Z",
        "outputId": "9f69428b-cf52-4966-c11c-d511fe779689"
      },
      "source": [
        "df_news.dtypes"
      ],
      "execution_count": null,
      "outputs": [
        {
          "output_type": "execute_result",
          "data": {
            "text/plain": [
              "Unnamed: 0     int64\n",
              "text          object\n",
              "validity       int64\n",
              "dtype: object"
            ]
          },
          "metadata": {
            "tags": []
          },
          "execution_count": 4
        }
      ]
    },
    {
      "cell_type": "code",
      "metadata": {
        "colab": {
          "base_uri": "https://localhost:8080/"
        },
        "id": "YR2zWZKoIshW",
        "outputId": "3ad5f8f1-cebb-4c63-8630-28ff790ab897"
      },
      "source": [
        "pip install urllib3\r\n"
      ],
      "execution_count": null,
      "outputs": [
        {
          "output_type": "stream",
          "text": [
            "Requirement already satisfied: urllib3 in /usr/local/lib/python3.6/dist-packages (1.24.3)\n"
          ],
          "name": "stdout"
        }
      ]
    },
    {
      "cell_type": "code",
      "metadata": {
        "colab": {
          "base_uri": "https://localhost:8080/"
        },
        "id": "iucrBjN8KCaj",
        "outputId": "8d2cc840-4997-4d30-8e24-8f27dfafeab0"
      },
      "source": [
        "pip install pytorch-transformers "
      ],
      "execution_count": null,
      "outputs": [
        {
          "output_type": "stream",
          "text": [
            "Collecting pytorch-transformers\n",
            "\u001b[?25l  Downloading https://files.pythonhosted.org/packages/a3/b7/d3d18008a67e0b968d1ab93ad444fc05699403fa662f634b2f2c318a508b/pytorch_transformers-1.2.0-py3-none-any.whl (176kB)\n",
            "\u001b[K     |████████████████████████████████| 184kB 6.1MB/s \n",
            "\u001b[?25hCollecting sentencepiece\n",
            "\u001b[?25l  Downloading https://files.pythonhosted.org/packages/14/67/e42bd1181472c95c8cda79305df848264f2a7f62740995a46945d9797b67/sentencepiece-0.1.95-cp36-cp36m-manylinux2014_x86_64.whl (1.2MB)\n",
            "\u001b[K     |████████████████████████████████| 1.2MB 38.4MB/s \n",
            "\u001b[?25hRequirement already satisfied: numpy in /usr/local/lib/python3.6/dist-packages (from pytorch-transformers) (1.19.5)\n",
            "Requirement already satisfied: regex in /usr/local/lib/python3.6/dist-packages (from pytorch-transformers) (2019.12.20)\n",
            "Requirement already satisfied: requests in /usr/local/lib/python3.6/dist-packages (from pytorch-transformers) (2.23.0)\n",
            "Collecting sacremoses\n",
            "\u001b[?25l  Downloading https://files.pythonhosted.org/packages/7d/34/09d19aff26edcc8eb2a01bed8e98f13a1537005d31e95233fd48216eed10/sacremoses-0.0.43.tar.gz (883kB)\n",
            "\u001b[K     |████████████████████████████████| 890kB 50.6MB/s \n",
            "\u001b[?25hRequirement already satisfied: tqdm in /usr/local/lib/python3.6/dist-packages (from pytorch-transformers) (4.41.1)\n",
            "Collecting boto3\n",
            "\u001b[?25l  Downloading https://files.pythonhosted.org/packages/7c/6a/a6311de2e27d17b6e2f9d567411d1701f02b1f44f77683d8f4484876a2e8/boto3-1.17.13-py2.py3-none-any.whl (130kB)\n",
            "\u001b[K     |████████████████████████████████| 133kB 49.9MB/s \n",
            "\u001b[?25hRequirement already satisfied: torch>=1.0.0 in /usr/local/lib/python3.6/dist-packages (from pytorch-transformers) (1.7.0+cu101)\n",
            "Requirement already satisfied: chardet<4,>=3.0.2 in /usr/local/lib/python3.6/dist-packages (from requests->pytorch-transformers) (3.0.4)\n",
            "Requirement already satisfied: certifi>=2017.4.17 in /usr/local/lib/python3.6/dist-packages (from requests->pytorch-transformers) (2020.12.5)\n",
            "Requirement already satisfied: urllib3!=1.25.0,!=1.25.1,<1.26,>=1.21.1 in /usr/local/lib/python3.6/dist-packages (from requests->pytorch-transformers) (1.24.3)\n",
            "Requirement already satisfied: idna<3,>=2.5 in /usr/local/lib/python3.6/dist-packages (from requests->pytorch-transformers) (2.10)\n",
            "Requirement already satisfied: six in /usr/local/lib/python3.6/dist-packages (from sacremoses->pytorch-transformers) (1.15.0)\n",
            "Requirement already satisfied: click in /usr/local/lib/python3.6/dist-packages (from sacremoses->pytorch-transformers) (7.1.2)\n",
            "Requirement already satisfied: joblib in /usr/local/lib/python3.6/dist-packages (from sacremoses->pytorch-transformers) (1.0.0)\n",
            "Collecting s3transfer<0.4.0,>=0.3.0\n",
            "\u001b[?25l  Downloading https://files.pythonhosted.org/packages/ea/43/4b4a1b26eb03a429a4c37ca7fdf369d938bd60018fc194e94b8379b0c77c/s3transfer-0.3.4-py2.py3-none-any.whl (69kB)\n",
            "\u001b[K     |████████████████████████████████| 71kB 10.3MB/s \n",
            "\u001b[?25hCollecting jmespath<1.0.0,>=0.7.1\n",
            "  Downloading https://files.pythonhosted.org/packages/07/cb/5f001272b6faeb23c1c9e0acc04d48eaaf5c862c17709d20e3469c6e0139/jmespath-0.10.0-py2.py3-none-any.whl\n",
            "Collecting botocore<1.21.0,>=1.20.13\n",
            "\u001b[?25l  Downloading https://files.pythonhosted.org/packages/d9/60/34ecbbcf9baca00454d599430b3da56b1b981879342ea489e8ffe57ec8b6/botocore-1.20.13-py2.py3-none-any.whl (7.3MB)\n",
            "\u001b[K     |████████████████████████████████| 7.3MB 51.4MB/s \n",
            "\u001b[?25hRequirement already satisfied: typing-extensions in /usr/local/lib/python3.6/dist-packages (from torch>=1.0.0->pytorch-transformers) (3.7.4.3)\n",
            "Requirement already satisfied: future in /usr/local/lib/python3.6/dist-packages (from torch>=1.0.0->pytorch-transformers) (0.16.0)\n",
            "Requirement already satisfied: dataclasses in /usr/local/lib/python3.6/dist-packages (from torch>=1.0.0->pytorch-transformers) (0.8)\n",
            "Requirement already satisfied: python-dateutil<3.0.0,>=2.1 in /usr/local/lib/python3.6/dist-packages (from botocore<1.21.0,>=1.20.13->boto3->pytorch-transformers) (2.8.1)\n",
            "Building wheels for collected packages: sacremoses\n",
            "  Building wheel for sacremoses (setup.py) ... \u001b[?25l\u001b[?25hdone\n",
            "  Created wheel for sacremoses: filename=sacremoses-0.0.43-cp36-none-any.whl size=893261 sha256=dd2e23eda8e5cf60e177168fbdec1120b9ac22c3865382a1929ea82766435786\n",
            "  Stored in directory: /root/.cache/pip/wheels/29/3c/fd/7ce5c3f0666dab31a50123635e6fb5e19ceb42ce38d4e58f45\n",
            "Successfully built sacremoses\n",
            "\u001b[31mERROR: botocore 1.20.13 has requirement urllib3<1.27,>=1.25.4, but you'll have urllib3 1.24.3 which is incompatible.\u001b[0m\n",
            "Installing collected packages: sentencepiece, sacremoses, jmespath, botocore, s3transfer, boto3, pytorch-transformers\n",
            "Successfully installed boto3-1.17.13 botocore-1.20.13 jmespath-0.10.0 pytorch-transformers-1.2.0 s3transfer-0.3.4 sacremoses-0.0.43 sentencepiece-0.1.95\n"
          ],
          "name": "stdout"
        }
      ]
    },
    {
      "cell_type": "code",
      "metadata": {
        "id": "HqVRVVNcLooc",
        "colab": {
          "base_uri": "https://localhost:8080/",
          "height": 128
        },
        "outputId": "8bbc8aa9-a00a-4035-9fc4-1c79a98b7ce2"
      },
      "source": [
        "\r\n",
        "import torch\r\n",
        "import numpy\r\n",
        "from pytorch_transformers import BertTokenizer\r\n",
        "from  pytorch_transformers import BertModel\r\n",
        "device = torch.device(\"cuda:0\" if torch.cuda.is_available() else \"cpu\")\r\n",
        "\r\n",
        "tokenizer1 = BertTokenizer.from_pretrained('bert-base-uncased')\r\n",
        "bert_0 = BertModel.from_pretrained('bert-base-uncased',output_hidden_states=True)\r\n",
        "bert_0.eval()"
      ],
      "execution_count": null,
      "outputs": [
        {
          "output_type": "error",
          "ename": "SyntaxError",
          "evalue": "ignored",
          "traceback": [
            "\u001b[0;36m  File \u001b[0;32m\"<ipython-input-113-ef627d12a259>\"\u001b[0;36m, line \u001b[0;32m1\u001b[0m\n\u001b[0;31m    pip install pytorch-transformers\u001b[0m\n\u001b[0m              ^\u001b[0m\n\u001b[0;31mSyntaxError\u001b[0m\u001b[0;31m:\u001b[0m invalid syntax\n"
          ]
        }
      ]
    },
    {
      "cell_type": "code",
      "metadata": {
        "id": "dXfGOeq2MdQZ"
      },
      "source": [
        "bert_0.to(device)\r\n"
      ],
      "execution_count": null,
      "outputs": []
    },
    {
      "cell_type": "code",
      "metadata": {
        "colab": {
          "base_uri": "https://localhost:8080/"
        },
        "id": "8kmXe3SzaTb8",
        "outputId": "606e78c7-5ae0-45e7-f0d5-58edf55f2a65"
      },
      "source": [
        "device"
      ],
      "execution_count": null,
      "outputs": [
        {
          "output_type": "execute_result",
          "data": {
            "text/plain": [
              "device(type='cuda', index=0)"
            ]
          },
          "metadata": {
            "tags": []
          },
          "execution_count": 11
        }
      ]
    },
    {
      "cell_type": "code",
      "metadata": {
        "id": "PBf5nFLdaAMy"
      },
      "source": [
        "bert_0.eval()"
      ],
      "execution_count": null,
      "outputs": []
    },
    {
      "cell_type": "code",
      "metadata": {
        "id": "Rd8PBkX-Kf6Z"
      },
      "source": [
        "##Generate corpus\r\n",
        "import torch\r\n",
        "import numpy as np\r\n",
        "\r\n",
        "\r\n",
        "\r\n",
        "\r\n",
        "def Generate_and_Save_Word_Embeddings(texts,targets, path, path_target, embedder, tokenizer):#Generate and save a word embedding tensor from a dataframe, and save it to path\r\n",
        "  corpus = []\r\n",
        "  ids = []\r\n",
        "  texts = texts.values.tolist()\r\n",
        "  n = len(texts)\r\n",
        "  max = 0\r\n",
        "  targets = targets.values.tolist()\r\n",
        "  target = []\r\n",
        "\r\n",
        "\r\n",
        "  for i in range(n): #range(len(data['tweet'])):\r\n",
        "    sentence = texts[i]\r\n",
        "    sentence = tokenizer.tokenize(sentence)\r\n",
        "    if len(sentence) <= 512:\r\n",
        "      for j in range(512 - len(sentence)):\r\n",
        "        sentence.append(\"\")\r\n",
        "    else:\r\n",
        "      sentence = sentence[0:512]\r\n",
        "    indexed_tokens = tokenizer.convert_tokens_to_ids(sentence)\r\n",
        "    corpus.append(sentence)\r\n",
        "    ids.append(indexed_tokens)\r\n",
        "    target.append(targets[i])\r\n",
        "    \r\n",
        "    \r\n",
        "\r\n",
        "  new_corpus = []\r\n",
        "  new_ids = []\r\n",
        "  for i in range(0, len(corpus)):\r\n",
        "    if len(corpus[i])>0:\r\n",
        "      new_corpus.append(corpus[i])\r\n",
        "      new_ids.append(ids[i])\r\n",
        "\r\n",
        "  # Convert inputs to PyTorch tensors\r\n",
        "  token_tensors = []\r\n",
        "  for indexed_tokens in new_ids:\r\n",
        "    tokens_tensor = torch.tensor([indexed_tokens])\r\n",
        "    token_tensors.append(tokens_tensor)\r\n",
        "  # Put the model in \"evaluation\" mode,meaning feed-forward operation.\r\n",
        "\r\n",
        "  word_embeddings = []\r\n",
        "  with torch.no_grad():\r\n",
        "    for tokens_tensor in token_tensors:\r\n",
        "      tokens_tensor = tokens_tensor.to(device)\r\n",
        "      outputs = embedder(tokens_tensor)\r\n",
        "  # can use last hidden state as word embeddings\r\n",
        "      last_hidden_state = outputs[0]\r\n",
        "      word_embeddings.append(last_hidden_state)#.detach().numpy())\r\n",
        "      #word_embeddings = np.stack(word_embeddings, axis=0)\r\n",
        "      #word_embeddings = torch.from_numpy(word_embeddings)\r\n",
        "  x = []\r\n",
        "  for i in word_embeddings:\r\n",
        "    i = i.to('cpu')\r\n",
        "    n = i.detach().numpy()\r\n",
        "    x.append(n)\r\n",
        "    target\r\n",
        "\r\n",
        "  x = np.stack(x, axis = 0)\r\n",
        "  x = torch.from_numpy(x)\r\n",
        "  x = torch.squeeze(x)\r\n",
        "  torch.save(x, path)\r\n",
        "  target = torch.tensor(target)\r\n",
        "  torch.save(target, path_target)\r\n",
        "  return x.shape, target.shape\r\n"
      ],
      "execution_count": null,
      "outputs": []
    },
    {
      "cell_type": "code",
      "metadata": {
        "id": "2nP7Yr1fYkTZ"
      },
      "source": [
        "for i in range(22):\r\n",
        "  path1 =  '/content/drive/MyDrive/NLP/FakeNews/Data/fkt_'+str(i)+'.pt'\r\n",
        "  path2 = '/content/drive/MyDrive/NLP/FakeNews/Data/fktarget_'+str(i)+'.pt'\r\n",
        "  start = 2000*i\r\n",
        "  end = 2000*i + 2000\r\n",
        "  ttext = df_news['text'][start:end]\r\n",
        "  ttarget = df_news['validity'][start:end]\r\n",
        "  shape1, shape2 = Generate_and_Save_Word_Embeddings(ttext, ttarget, path1, path2, bert_0, tokenizer1)\r\n",
        "  print(shape1, shape2)\r\n",
        "  print()"
      ],
      "execution_count": null,
      "outputs": []
    },
    {
      "cell_type": "code",
      "metadata": {
        "id": "fMHcm7BrYlSN"
      },
      "source": [
        "bert_0.eval()"
      ],
      "execution_count": null,
      "outputs": []
    },
    {
      "cell_type": "markdown",
      "metadata": {
        "id": "toGA6qtkKdVy"
      },
      "source": [
        "##Start From Here"
      ]
    },
    {
      "cell_type": "code",
      "metadata": {
        "id": "ikD-x-XrW_Ob"
      },
      "source": [
        "import torch\r\n",
        "\r\n",
        "device = torch.device(\"cuda:0\" if torch.cuda.is_available() else \"cpu\")\r\n"
      ],
      "execution_count": 1,
      "outputs": []
    },
    {
      "cell_type": "code",
      "metadata": {
        "id": "_be5o21_Zji0"
      },
      "source": [
        "from torch.utils.data import DataLoader\r\n",
        "\r\n",
        "class Dataset(torch.utils.data.Dataset):\r\n",
        "  'Characterizes a dataset for PyTorch'\r\n",
        "  def __init__(self, x, y):\r\n",
        "        'Initialization'\r\n",
        "        self.x = x\r\n",
        "        self.y = y \r\n",
        "\r\n",
        "  def __len__(self):\r\n",
        "        'Denotes the total number of samples'\r\n",
        "        return self.x.shape[0]\r\n",
        "\r\n",
        "  def __getitem__(self, index):\r\n",
        "        'Generates one sample of data'\r\n",
        "        # Select sample\r\n",
        "        # Load data and get label\r\n",
        "        X = self.x[index]\r\n",
        "        y = self.y[index]\r\n",
        "\r\n",
        "        return X, y\r\n",
        "\r\n",
        "\r\n"
      ],
      "execution_count": 2,
      "outputs": []
    },
    {
      "cell_type": "code",
      "metadata": {
        "id": "4lAAo97oSirL"
      },
      "source": [
        "sample_path1 = '/content/drive/MyDrive/NLP/FakeNews/Data/fkt_5.pt'\r\n",
        "target_path1 =  '/content/drive/MyDrive/NLP/FakeNews/Data/fktarget_5.pt'\r\n",
        "sample_path2 = '/content/drive/MyDrive/NLP/FakeNews/Data/fkt_6.pt'\r\n",
        "target_path2 =  '/content/drive/MyDrive/NLP/FakeNews/Data/fktarget_6.pt'\r\n",
        "\r\n",
        "sample = torch.cat((torch.load(sample_path1), torch.load(sample_path2)), 0)\r\n",
        "target = torch.cat((torch.load(target_path1), torch.load(target_path2)), 0)\r\n"
      ],
      "execution_count": 3,
      "outputs": []
    },
    {
      "cell_type": "code",
      "metadata": {
        "id": "aFim9NoOTqSL"
      },
      "source": [
        "train_dataset = Dataset(sample.to(device), target.to(device))\r\n"
      ],
      "execution_count": 4,
      "outputs": []
    },
    {
      "cell_type": "code",
      "metadata": {
        "id": "TxOtExv24kHA"
      },
      "source": [
        "sample = 0\r\n",
        "target = 0"
      ],
      "execution_count": 5,
      "outputs": []
    },
    {
      "cell_type": "code",
      "metadata": {
        "colab": {
          "base_uri": "https://localhost:8080/"
        },
        "id": "sfSdw_wqBAVv",
        "outputId": "67696e75-5791-4854-c59d-f93f11d92546"
      },
      "source": [
        "len(train_dataset)"
      ],
      "execution_count": null,
      "outputs": [
        {
          "output_type": "execute_result",
          "data": {
            "text/plain": [
              "4000"
            ]
          },
          "metadata": {
            "tags": []
          },
          "execution_count": 90
        }
      ]
    },
    {
      "cell_type": "code",
      "metadata": {
        "id": "vSD0KRRj4Tuw"
      },
      "source": [
        "train_loader = DataLoader(dataset = train_dataset, batch_size = 500, shuffle = True)"
      ],
      "execution_count": 6,
      "outputs": []
    },
    {
      "cell_type": "code",
      "metadata": {
        "id": "M3Us7RIP4rBr"
      },
      "source": [
        "train_dataset = 0"
      ],
      "execution_count": 7,
      "outputs": []
    },
    {
      "cell_type": "code",
      "metadata": {
        "colab": {
          "base_uri": "https://localhost:8080/"
        },
        "id": "Ycirg8JzBKI3",
        "outputId": "935bd8aa-0daf-4d51-f151-d545a8ec6e67"
      },
      "source": [
        "len(train_loader)"
      ],
      "execution_count": 8,
      "outputs": [
        {
          "output_type": "execute_result",
          "data": {
            "text/plain": [
              "8"
            ]
          },
          "metadata": {
            "tags": []
          },
          "execution_count": 8
        }
      ]
    },
    {
      "cell_type": "code",
      "metadata": {
        "id": "dDApS-6dZt4k"
      },
      "source": [
        "from torch.utils.data import DataLoader\r\n",
        "\r\n",
        "\r\n",
        "def training(model0, epochs, lr1):\r\n",
        "  loss_l = []\r\n",
        "  criterion = nn.CrossEntropyLoss()\r\n",
        "  model = model0\r\n",
        "  model.cuda()\r\n",
        "  optimizer = torch.optim.Adam(model.parameters(), lr=lr1, weight_decay=0)\r\n",
        "\r\n",
        "  \r\n",
        "  for epoch in range(epochs):\r\n",
        "    optimizer.zero_grad\r\n",
        "    n = 0\r\n",
        "    l = 0\r\n",
        "    for x_batch, y_batch in train_loader:\r\n",
        "          # the dataset \"lives\" in the CPU, so do our mini-batches\r\n",
        "          # therefore, we need to send those mini-batches to the\r\n",
        "          # device where the model \"lives\"\r\n",
        "      x_batch = x_batch.cuda()\r\n",
        "      y_batch = y_batch.cuda()\r\n",
        "      yhat = model(x_batch)\r\n",
        "      loss = criterion(torch.squeeze(yhat), y_batch)\r\n",
        "      loss.backward()\r\n",
        "      optimizer.step()\r\n",
        "      l = l + loss\r\n",
        "      n = n+1\r\n",
        "    loss_l.append(l/n)\r\n",
        "\r\n",
        "  return model, loss_l\r\n"
      ],
      "execution_count": 9,
      "outputs": []
    },
    {
      "cell_type": "code",
      "metadata": {
        "id": "ukCwpgGXcDjc"
      },
      "source": [
        "import torch.nn as nn\r\n",
        "import torch\r\n",
        "import torch.functional as F\r\n",
        "class CLSTM(nn.Module):\r\n",
        "  def __init__(self):\r\n",
        "    super(CLSTM, self).__init__()\r\n",
        "    self.dropout = nn.Dropout(p=0.2).cuda()\r\n",
        "    self.layer1 = nn.Conv1d(768, 100, 10, stride = 5).cuda()\r\n",
        "    self.maxpool1 = nn.MaxPool1d(3).cuda()\r\n",
        "    self.layer2 = nn.LSTM(100, 100, 1).cuda()\r\n",
        "    self.h0 = torch.randn(1, 33, 100).cuda()\r\n",
        "    self.c0 = torch.randn(1, 33, 100).cuda()\r\n",
        "    self.maxpool2 = nn.MaxPool2d((33, 1)).cuda()\r\n",
        "    self.layer3 = nn.Linear(100, 3).cuda()\r\n",
        "\r\n",
        "\r\n",
        "  def forward(self, x):\r\n",
        "    x = self.dropout(x)\r\n",
        "    x = x.permute(0, 2, 1)\r\n",
        "    x = self.layer1(x)\r\n",
        "    x = nn.functional.relu(x)\r\n",
        "    x = self.maxpool1(x)\r\n",
        "    x = x.permute(0, 2, 1)\r\n",
        "    x, (h, c) = self.layer2(x, (self.h0, self.c0))\r\n",
        "    x = self.maxpool2(x)\r\n",
        "    x = torch.squeeze(x)\r\n",
        "    x = self.layer3(x)\r\n",
        "    \r\n",
        "    return x\r\n",
        "    \r\n"
      ],
      "execution_count": 10,
      "outputs": []
    },
    {
      "cell_type": "code",
      "metadata": {
        "id": "n45cLWibMZJJ"
      },
      "source": [
        "model1 = CLSTM()\r\n"
      ],
      "execution_count": null,
      "outputs": []
    },
    {
      "cell_type": "code",
      "metadata": {
        "id": "rg-pDfnoMrgf"
      },
      "source": [
        "model1, l1 = training(model1, 30, 0.00001 )"
      ],
      "execution_count": null,
      "outputs": []
    },
    {
      "cell_type": "code",
      "metadata": {
        "id": "UNn72sRO_Exh"
      },
      "source": [
        "torch.save(model1, '/content/drive/MyDrive/NLP/FakeNews/Model/fakenewsdetector.pth')\r\n"
      ],
      "execution_count": null,
      "outputs": []
    },
    {
      "cell_type": "code",
      "metadata": {
        "colab": {
          "base_uri": "https://localhost:8080/"
        },
        "id": "U_WQxFnjjkdk",
        "outputId": "2294e0f3-92f9-4371-9baa-4f945200907d"
      },
      "source": [
        "modelx = torch.load('/content/drive/MyDrive/NLP/FakeNews/Model/fakenewsdetector.pth')\r\n",
        "modelx.eval()\r\n"
      ],
      "execution_count": 11,
      "outputs": [
        {
          "output_type": "execute_result",
          "data": {
            "text/plain": [
              "CLSTM(\n",
              "  (dropout): Dropout(p=0.2, inplace=False)\n",
              "  (layer1): Conv1d(768, 100, kernel_size=(10,), stride=(5,))\n",
              "  (maxpool1): MaxPool1d(kernel_size=3, stride=3, padding=0, dilation=1, ceil_mode=False)\n",
              "  (layer2): LSTM(100, 100)\n",
              "  (maxpool2): MaxPool2d(kernel_size=(33, 1), stride=(33, 1), padding=0, dilation=1, ceil_mode=False)\n",
              "  (layer3): Linear(in_features=100, out_features=3, bias=True)\n",
              ")"
            ]
          },
          "metadata": {
            "tags": []
          },
          "execution_count": 11
        }
      ]
    },
    {
      "cell_type": "code",
      "metadata": {
        "id": "CS-b2u4vilD6"
      },
      "source": [
        "model1.state_dict()"
      ],
      "execution_count": null,
      "outputs": []
    },
    {
      "cell_type": "code",
      "metadata": {
        "id": "AEdO2t_qUMgw"
      },
      "source": [
        "l2 = []"
      ],
      "execution_count": null,
      "outputs": []
    },
    {
      "cell_type": "code",
      "metadata": {
        "id": "6Osr_-N0UOMr"
      },
      "source": [
        "l2+=l1"
      ],
      "execution_count": null,
      "outputs": []
    },
    {
      "cell_type": "code",
      "metadata": {
        "colab": {
          "base_uri": "https://localhost:8080/",
          "height": 284
        },
        "id": "kpvtRdb0T_Cz",
        "outputId": "ff65faa3-39ba-4815-f962-b23612379583"
      },
      "source": [
        "import matplotlib.pyplot as plt\r\n",
        "plt.plot(l2)"
      ],
      "execution_count": null,
      "outputs": [
        {
          "output_type": "execute_result",
          "data": {
            "text/plain": [
              "[<matplotlib.lines.Line2D at 0x7f13c3fee8d0>]"
            ]
          },
          "metadata": {
            "tags": []
          },
          "execution_count": 118
        },
        {
          "output_type": "display_data",
          "data": {
            "image/png": "[encoded data removed]",
            "text/plain": [
              "<Figure size 432x288 with 1 Axes>"
            ]
          },
          "metadata": {
            "tags": [],
            "needs_background": "light"
          }
        }
      ]
    },
    {
      "cell_type": "code",
      "metadata": {
        "colab": {
          "base_uri": "https://localhost:8080/",
          "height": 719
        },
        "id": "JeKqfhUL5eUH",
        "outputId": "3e7dff79-c9d3-4c43-f09e-e8895968cf81"
      },
      "source": [
        "from sklearn.metrics import accuracy_score\r\n",
        "from sklearn.metrics import f1_score\r\n",
        "from sklearn.metrics import roc_auc_score\r\n",
        "import numpy as np\r\n",
        "\r\n",
        "acc = 0\r\n",
        "f1 = 0\r\n",
        "roc_auc = 0\r\n",
        "pred = []\r\n",
        "true = []\r\n",
        "n = 0\r\n",
        "for x_batch, y_batch in train_loader:\r\n",
        "        # the dataset \"lives\" in the CPU, so do our mini-batches\r\n",
        "        # therefore, we need to send those mini-batches to the\r\n",
        "        # device where the model \"lives\"\r\n",
        "        yhat = modelx(x_batch)\r\n",
        "        arg = torch.squeeze(yhat)\r\n",
        "        ypred = torch.argmax(arg, dim = 1).to('cpu').detach().numpy()\r\n",
        "        pred.append(ypred)\r\n",
        "        ytrue = y_batch.to('cpu').detach().numpy()\r\n",
        "        true.append(ytrue)\r\n",
        "        ac = accuracy_score(ytrue, ypred)\r\n",
        "        print(\"accuracy = \"+str(100*ac)+\"%\")\r\n",
        "        acc+=ac\r\n",
        "        f = f1_score(ytrue, ypred, average='macro')\r\n",
        "        print(\"f1 = \"+str(100*f)+\"%\")\r\n",
        "        f1+=f\r\n",
        "        print()\r\n",
        "        n = n+1\r\n",
        "        #roc_auc+=roc_auc_score(ytrue, ypred, average='macro')\r\n",
        "print('average accuracy = ', str(100*acc/n)+\"%\")\r\n",
        "print('average f1 = ', str(100*f1/n)+\"%\")\r\n",
        "#print('roc = ', roc_auc/(len(tweet_data_test)/100))\r\n",
        "\r\n",
        "pred = np.concatenate(pred)\r\n",
        "true = np.concatenate(true)\r\n",
        "pp = pred\r\n",
        "tt = true \r\n",
        "import pandas as pd\r\n",
        "import seaborn as sn\r\n",
        "import matplotlib.pyplot as plt\r\n",
        "import numpy as np\r\n",
        "\r\n",
        "data = {'y_Actual':   tt,\r\n",
        "        'y_Predicted':pp\r\n",
        "        }\r\n",
        "\r\n",
        "df = pd.DataFrame(data, columns=['y_Actual','y_Predicted'])\r\n",
        "confusion_matrix = pd.crosstab(df['y_Actual'], df['y_Predicted'], rownames=['Actual'], colnames=['Predicted'])\r\n",
        "\r\n",
        "sn.heatmap(confusion_matrix, annot=True)\r\n",
        "plt.show()"
      ],
      "execution_count": 12,
      "outputs": [
        {
          "output_type": "stream",
          "text": [
            "accuracy = 98.0%\n",
            "f1 = 97.99987199180748%\n",
            "\n",
            "accuracy = 97.39999999999999%\n",
            "f1 = 97.39624017080664%\n",
            "\n",
            "accuracy = 97.8%\n",
            "f1 = 97.79356603856849%\n",
            "\n",
            "accuracy = 97.39999999999999%\n",
            "f1 = 97.3997399739974%\n",
            "\n",
            "accuracy = 97.8%\n",
            "f1 = 97.79681860606716%\n",
            "\n",
            "accuracy = 97.2%\n",
            "f1 = 97.19712986097764%\n",
            "\n",
            "accuracy = 98.0%\n",
            "f1 = 97.99794990069832%\n",
            "\n",
            "accuracy = 96.2%\n",
            "f1 = 96.18337478054406%\n",
            "\n",
            "average accuracy =  97.475%\n",
            "average f1 =  97.4705864154334%\n"
          ],
          "name": "stdout"
        },
        {
          "output_type": "display_data",
          "data": {
            "image/png": "[encoded data removed]",
            "text/plain": [
              "<Figure size 432x288 with 2 Axes>"
            ]
          },
          "metadata": {
            "tags": [],
            "needs_background": "light"
          }
        }
      ]
    },
    {
      "cell_type": "code",
      "metadata": {
        "colab": {
          "base_uri": "https://localhost:8080/"
        },
        "id": "5i6ZYqCpLQ0t",
        "outputId": "99e58ac5-d4c6-4c3c-c855-202801ef8963"
      },
      "source": [
        "password = input(\"Enter Password: \")\r\n"
      ],
      "execution_count": null,
      "outputs": [
        {
          "output_type": "stream",
          "text": [
            "Enter Password: ppppppppppppppppppppppppppppppppppppppppppppppppppppppppppppppppppppppppppppppppppppppppppppppppppppppppppppppppppppppp\n"
          ],
          "name": "stdout"
        }
      ]
    },
    {
      "cell_type": "code",
      "metadata": {
        "colab": {
          "base_uri": "https://localhost:8080/"
        },
        "id": "_qUQQ-UvLUIp",
        "outputId": "d9ff9851-957b-4dfe-9bcb-42fb9c568ef2"
      },
      "source": [
        "print(password)"
      ],
      "execution_count": null,
      "outputs": [
        {
          "output_type": "stream",
          "text": [
            "ppppppppppppppppppppppppppppppppppppppppppppppppppppppppppppppppppppppppppppppppppppppppppppppppppppppppppppppppppppppp\n"
          ],
          "name": "stdout"
        }
      ]
    },
    {
      "cell_type": "code",
      "metadata": {
        "colab": {
          "base_uri": "https://localhost:8080/"
        },
        "id": "yAqzIxOEJZnQ",
        "outputId": "94c7c54e-7fc1-4885-df52-da46b33d589b"
      },
      "source": [
        "model1.state_dict"
      ],
      "execution_count": null,
      "outputs": [
        {
          "output_type": "execute_result",
          "data": {
            "text/plain": [
              "<bound method Module.state_dict of CLSTM(\n",
              "  (dropout): Dropout(p=0.2, inplace=False)\n",
              "  (layer1): Conv1d(768, 100, kernel_size=(10,), stride=(5,))\n",
              "  (maxpool1): MaxPool1d(kernel_size=3, stride=3, padding=0, dilation=1, ceil_mode=False)\n",
              "  (layer2): LSTM(100, 100)\n",
              "  (maxpool2): MaxPool2d(kernel_size=(33, 1), stride=(33, 1), padding=0, dilation=1, ceil_mode=False)\n",
              "  (layer3): Linear(in_features=100, out_features=3, bias=True)\n",
              ")>"
            ]
          },
          "metadata": {
            "tags": []
          },
          "execution_count": 108
        }
      ]
    },
    {
      "cell_type": "code",
      "metadata": {
        "id": "o05getm3Mc9K"
      },
      "source": [
        "def fake_news_detector(str):\r\n",
        "  "
      ],
      "execution_count": null,
      "outputs": []
    }
  ]
}